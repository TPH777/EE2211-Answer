{
 "cells": [
  {
   "cell_type": "code",
   "execution_count": 16,
   "id": "ea2d443f-a39e-4947-b63b-a35fe6d243cf",
   "metadata": {},
   "outputs": [
    {
     "name": "stdout",
     "output_type": "stream",
     "text": [
      "[-8.32667268e-16 -3.88578059e-16 -1.52655666e-15 -1.80411242e-16\n",
      "  6.10622664e-16  0.00000000e+00]\n",
      "[1. 1. 1. 1. 1. 1.]\n"
     ]
    }
   ],
   "source": [
    "import pandas as pd\n",
    "import matplotlib.pyplot as plt\n",
    "import numpy as np\n",
    "\n",
    "data = [ [1.2234, 0.3302, 123.50, 0.0081, 30033.81, 1],\n",
    "[1.3456, 0.3208, 113.24, 0.0067, 29283.18, -1],\n",
    "[0.9988, 0.2326, 133.45, 0.0093, 36034.33, 1],\n",
    "[1.1858, 0.4301, 128.55, 0.0077, 34037.35, 1],\n",
    "[1.1533, 0.3853, 116.70, 0.0066, 22033.58, -1],\n",
    "[1.2755, 0.3102, 118.30, 0.0098, 30183.65, 1],\n",
    "[1.0045, 0.2901, 123.52, 0.0065, 31093.98, -1],\n",
    "[1.1131, 0.3912, 113.15, 0.0088, 29033.23, -1] ]\n",
    "\n",
    "df = pd.DataFrame(data)\n",
    "df.head(7)\n",
    "\n",
    "from sklearn import preprocessing\n",
    "\n",
    "# Z-score scaling\n",
    "df_scaled = preprocessing.scale(df)\n",
    "\n",
    "print(df_scaled.mean(axis=0))\n",
    "print(df_scaled.std(axis=0))\n",
    "\n",
    "# min-max scaling\n",
    "mix_max_scale = preprocessing.MinMaxScaler()\n",
    "df_minax = mix_max_scale.fit_transform(df)"
   ]
  },
  {
   "cell_type": "code",
   "execution_count": 18,
   "id": "8772e122-2c75-4a47-a9be-d6401bc189e6",
   "metadata": {},
   "outputs": [
    {
     "data": {
      "text/plain": [
       "(8, 6)"
      ]
     },
     "execution_count": 18,
     "metadata": {},
     "output_type": "execute_result"
    }
   ],
   "source": [
    "import pandas as pd\n",
    "import matplotlib.pyplot as plt\n",
    "import numpy as np\n",
    "\n",
    "data = [ [1.2234, 0.3302, 123.50, 0.0081, 30033.81, 1],\n",
    "[1.3456, 0.3208, 113.24, 0.0067, 29283.18, -1],\n",
    "[0.9988, 0.2326, 133.45, 0.0093, 36034.33, 1],\n",
    "[1.1858, 0.4301, 128.55, 0.0077, 34037.35, 1],\n",
    "[1.1533, 0.3853, 116.70, 0.0066, 22033.58, -1],\n",
    "[1.2755, 0.3102, 118.30, 0.0098, 30183.65, 1],\n",
    "[1.0045, 0.2901, 123.52, 0.0065, 31093.98, -1],\n",
    "[1.1131, 0.3912, 113.15, 0.0088, 29033.23, -1] ]\n",
    "\n",
    "df = pd.DataFrame(data)\n",
    "df.head(7)\n",
    "\n",
    "df.shape\n",
    "\n",
    "# from sklearn import preprocessing\n",
    "\n",
    "# # Z-score scaling\n",
    "# df_scaled = preprocessing.scale(df)\n",
    "\n",
    "# print(df_scaled.mean(axis=0))\n",
    "# print(df_scaled.std(axis=0))\n",
    "\n",
    "# df_scaled\n",
    "\n",
    "# # min-max scaling\n",
    "# mix_max_scale = preprocessing.MinMaxScaler()\n",
    "# df_minax = mix_max_scale.fit_transform(df)\n",
    "\n",
    "# df_scaled"
   ]
  },
  {
   "cell_type": "code",
   "execution_count": null,
   "id": "702b48dd-78a0-406a-b9c8-a0a3ec9f595a",
   "metadata": {},
   "outputs": [],
   "source": []
  }
 ],
 "metadata": {
  "kernelspec": {
   "display_name": "Python 3 (ipykernel)",
   "language": "python",
   "name": "python3"
  },
  "language_info": {
   "codemirror_mode": {
    "name": "ipython",
    "version": 3
   },
   "file_extension": ".py",
   "mimetype": "text/x-python",
   "name": "python",
   "nbconvert_exporter": "python",
   "pygments_lexer": "ipython3",
   "version": "3.12.4"
  }
 },
 "nbformat": 4,
 "nbformat_minor": 5
}
