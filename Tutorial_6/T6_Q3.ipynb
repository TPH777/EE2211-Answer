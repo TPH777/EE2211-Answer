{
 "cells": [
  {
   "cell_type": "markdown",
   "id": "e7aac5b7-b27d-4195-847c-da90b8741f30",
   "metadata": {},
   "source": [
    "# <span style=\"color:blue\">  Tutorial 6, Question 3 </span>"
   ]
  },
  {
   "cell_type": "code",
   "execution_count": 3,
   "id": "7e661599-6546-411d-85f0-87f04e8f8727",
   "metadata": {},
   "outputs": [
    {
     "name": "stdout",
     "output_type": "stream",
     "text": [
      "P=[[ 1.  1.  0.  1.  1.  0.  1.  0.  0.  1.  1.  0.  1.  0.  0.  1.  0.  0.\n",
      "   0.  1.]\n",
      " [ 1.  1. -1.  1.  1. -1.  1.  1. -1.  1.  1. -1.  1.  1. -1.  1. -1.  1.\n",
      "  -1.  1.]]\n"
     ]
    }
   ],
   "source": [
    "import numpy as np\n",
    "from numpy.linalg import inv\n",
    "from sklearn.preprocessing import PolynomialFeatures\n",
    "X = np.array([[1,0,1], [1,-1,1]])\n",
    "y = np.array([0, 1])\n",
    "\n",
    "## Generate polynomial features\n",
    "order = 3\n",
    "poly = PolynomialFeatures(order)\n",
    "P = poly.fit_transform(X)\n",
    "print(f\"P={P}\")"
   ]
  },
  {
   "cell_type": "code",
   "execution_count": 12,
   "id": "c8826b3e-7084-44f1-852f-31ecc723fde8",
   "metadata": {},
   "outputs": [
    {
     "name": "stdout",
     "output_type": "stream",
     "text": [
      "Dual Ridge without ridge\n",
      "[ 0.   0.  -0.1  0.   0.  -0.1  0.   0.1 -0.1  0.   0.  -0.1  0.   0.1\n",
      " -0.1  0.  -0.1  0.1 -0.1  0. ]\n"
     ]
    }
   ],
   "source": [
    "## dual solution (without ridge)\n",
    "w_dual = P.T @ inv(P @ P.T) @ y\n",
    "print(\"Dual Ridge without ridge\")\n",
    "print(w_dual)"
   ]
  },
  {
   "cell_type": "code",
   "execution_count": 14,
   "id": "4062f319-5047-447e-ad53-dd2b193ae15e",
   "metadata": {},
   "outputs": [
    {
     "name": "stdout",
     "output_type": "stream",
     "text": [
      "Dual Ridge \n",
      "[ 9.99970001e-07  9.99970001e-07 -9.99980000e-02  9.99970001e-07\n",
      "  9.99970001e-07 -9.99980000e-02  9.99970001e-07  9.99980000e-02\n",
      " -9.99980000e-02  9.99970001e-07  9.99970001e-07 -9.99980000e-02\n",
      "  9.99970001e-07  9.99980000e-02 -9.99980000e-02  9.99970001e-07\n",
      " -9.99980000e-02  9.99980000e-02 -9.99980000e-02  9.99970001e-07]\n"
     ]
    }
   ],
   "source": [
    "# dual ridge regression\n",
    "reg_L2 = 0.0001*np.identity(P.shape[0]) # lambda = 0.0001\n",
    "w_dual_ridge = P.T @ (inv(P @ P.T + reg_L2)) @ y\n",
    "print(\"Dual Ridge \")\n",
    "print(w_dual_ridge)"
   ]
  },
  {
   "cell_type": "code",
   "execution_count": 6,
   "id": "7721ba16-566a-46e0-816a-075ea4392afe",
   "metadata": {},
   "outputs": [
    {
     "name": "stdout",
     "output_type": "stream",
     "text": [
      "[ 9.99976692e-07  9.99972144e-07 -9.99980001e-02  9.99971235e-07\n",
      "  9.99967597e-07 -9.99980000e-02  9.99966687e-07  9.99980001e-02\n",
      " -9.99980001e-02  9.99973054e-07  9.99965778e-07 -9.99980000e-02\n",
      "  9.99966687e-07  9.99980001e-02 -9.99980001e-02  9.99971235e-07\n",
      " -9.99980001e-02  9.99980000e-02 -9.99980000e-02  9.99970325e-07]\n"
     ]
    }
   ],
   "source": [
    "## primal ridge\n",
    "reg_L = 0.0001*np.identity(P.shape[1])\n",
    "w_primal_ridge = inv(P.T @ P + reg_L) @ P.T @ y\n",
    "print(w_primal_ridge)"
   ]
  },
  {
   "cell_type": "code",
   "execution_count": null,
   "id": "62a96984-9ce0-4317-ace3-d2bd26c9089a",
   "metadata": {},
   "outputs": [],
   "source": []
  }
 ],
 "metadata": {
  "kernelspec": {
   "display_name": "Python 3 (ipykernel)",
   "language": "python",
   "name": "python3"
  },
  "language_info": {
   "codemirror_mode": {
    "name": "ipython",
    "version": 3
   },
   "file_extension": ".py",
   "mimetype": "text/x-python",
   "name": "python",
   "nbconvert_exporter": "python",
   "pygments_lexer": "ipython3",
   "version": "3.12.4"
  }
 },
 "nbformat": 4,
 "nbformat_minor": 5
}
