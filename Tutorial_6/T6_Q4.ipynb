{
 "cells": [
  {
   "cell_type": "markdown",
   "id": "5427fd6b-272e-4df8-b3a1-064ef1053eb1",
   "metadata": {},
   "source": [
    "# <span style=\"color:blue\"> Tutorial 6 Question 4: </span>\n",
    "\n",
    "Given the training data: {𝑥=−1} →{ 𝑦=𝑐𝑙𝑎𝑠𝑠1 } {𝑥= 0 } →{ 𝑦=𝑐𝑙𝑎𝑠𝑠1 } {𝑥=0.5} →{ 𝑦=𝑐𝑙𝑎𝑠𝑠2 } {𝑥=0.3} →{ 𝑦=𝑐𝑙𝑎𝑠𝑠1 } {𝑥=0.8} →{ 𝑦=𝑐𝑙𝑎𝑠𝑠2 } \n",
    "Predict the class label for {𝑥=−0.1} and {𝑥=0.4} using linear regression with signum discrimination."
   ]
  },
  {
   "cell_type": "code",
   "execution_count": null,
   "id": "6cf22172-68d7-4567-a1c6-938a5a76fc99",
   "metadata": {},
   "outputs": [],
   "source": [
    "import numpy as np \n",
    "from numpy.linalg import inv \n",
    "from sklearn.preprocessing import PolynomialFeatures\n",
    "X = np.array([[1,-1], [1,0], [1,0.5], [1,0.3], [1,0.8]]) \n",
    "y = np.array([1, 1, -1, 1, -1]) \n",
    "\n",
    "## Linear regression for classification \n",
    "w = inv(X.T @ X) @ X.T @ y \n",
    "print(w) \n",
    "\n",
    "Xt = np.array([[1,-0.1], [1,0.4]]) \n",
    "y_predict = Xt @ w \n",
    "print(y_predict) \n",
    "\n",
    "y_class_predict = np.sign(y_predict) \n",
    "print(y_class_predict)"
   ]
  }
 ],
 "metadata": {
  "kernelspec": {
   "display_name": "Python 3 (ipykernel)",
   "language": "python",
   "name": "python3"
  },
  "language_info": {
   "codemirror_mode": {
    "name": "ipython",
    "version": 3
   },
   "file_extension": ".py",
   "mimetype": "text/x-python",
   "name": "python",
   "nbconvert_exporter": "python",
   "pygments_lexer": "ipython3",
   "version": "3.12.4"
  }
 },
 "nbformat": 4,
 "nbformat_minor": 5
}
