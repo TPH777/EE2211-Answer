{
 "cells": [
  {
   "cell_type": "markdown",
   "id": "e8d7760c-b1cb-4eb3-b888-8c6feeb20bf3",
   "metadata": {},
   "source": [
    "## Tutorial 5 Question 6\n",
    "Download the CSV file for red-wine using “ wine = pd.read_csv(\"https://archive.ics.uci.edu/ml/machine-learningdatabases/\n",
    "wine-quality/winequality-red.csv\",sep=';') ” . Use Python to perform the following tasks. Hint: use Python\n",
    "packages like numpy, pandas, matplotlib.pyplot, numpy.linalg, and sklearn.metrics.\n",
    "1. Take y = wine.quality as the target output and x = wine.drop('quality',axis = 1)as the input features. Assume the given list of data is already randomly indexed (i.e., not in particular order), split the database into two sets: [0:1500] samples for regression training, and [1500:1599] samples for testing.\n",
    "2. Perform linear regression on the training set and print out the learned parameters.\n",
    "3. Perform prediction using the test set and provide the prediction accuracy in terms of the mean of squared\n",
    "errors (MSE)."
   ]
  },
  {
   "cell_type": "code",
   "execution_count": 10,
   "id": "459ce4dc-db90-42d7-9881-b584c7cfa9c0",
   "metadata": {
    "scrolled": true
   },
   "outputs": [
    {
     "name": "stdout",
     "output_type": "stream",
     "text": [
      "[ 3.28941826e+01  4.81157024e-02 -1.06785462e+00 -1.84257098e-01\n",
      "  1.64842668e-02 -1.81633822e+00  5.40300910e-03 -3.22455796e-03\n",
      " -2.94602929e+01 -2.75921014e-01  9.32162992e-01  2.69269938e-01]\n",
      "0.4492984111166125\n",
      "0.4492984111166125\n"
     ]
    }
   ],
   "source": [
    "import pandas as pd\n",
    "#import matplotlib.pyplot as plt\n",
    "import numpy as np\n",
    "from numpy.linalg import inv\n",
    "from sklearn.metrics import mean_squared_error\n",
    "## get data from web\n",
    "# wine = pd.read_csv(\"https://archive.ics.uci.edu/ml/machine-learning-databases/winequality/winequality-red.csv\",sep=';')\n",
    "wine = pd.read_csv(\"winequality-red.csv\",sep=';') # get data from the downloaded local file\n",
    "# wine.info()\n",
    "y = wine.quality\n",
    "x = wine.drop('quality',axis = 1)\n",
    "\n",
    "## Include the offset/bias term\n",
    "x0 = np.ones((len(y),1))\n",
    "X = np.hstack((x0,x))\n",
    "## split data into training and test sets\n",
    "## (Note: this exercise introduces the basic protocol of using the training-test \n",
    "## partitioning of samples for evaluation assuming the list of data is already randomly indexed)\n",
    "## In case you really want a general random split to have a better training/test distributions:\n",
    "## from sklearn.model_selection import train_test_split\n",
    "## train_X,test_X,train_y,test_y = train_test_split(X,y,test_size=99/1599, random_state = 0)\n",
    "\n",
    "# randomly split the data into training and testing sets\n",
    "from sklearn.model_selection import train_test_split\n",
    "train_X,test_X,train_y,test_y = train_test_split(X,y,test_size=99/1599, random_state = 4)\n",
    "\n",
    "# deterministically split data into training and testing sets\n",
    "# train_X = X[0:1500]\n",
    "# train_y = y[0:1500]\n",
    "# test_X = X[1500:1599]\n",
    "# test_y = y[1500:1599]\n",
    "\n",
    "## linear regression\n",
    "w = inv(train_X.T @ train_X) @ train_X.T @ train_y\n",
    "print(w)\n",
    "yt_est = test_X.dot(w)\n",
    "MSE = np.square(np.subtract(test_y,yt_est)).mean()\n",
    "print(MSE)\n",
    "MSE = mean_squared_error(test_y,yt_est)\n",
    "print(MSE)"
   ]
  },
  {
   "cell_type": "code",
   "execution_count": null,
   "id": "9a6f518e-4b61-4311-b38a-a47e0dba36e8",
   "metadata": {},
   "outputs": [],
   "source": []
  }
 ],
 "metadata": {
  "kernelspec": {
   "display_name": "Python 3 (ipykernel)",
   "language": "python",
   "name": "python3"
  },
  "language_info": {
   "codemirror_mode": {
    "name": "ipython",
    "version": 3
   },
   "file_extension": ".py",
   "mimetype": "text/x-python",
   "name": "python",
   "nbconvert_exporter": "python",
   "pygments_lexer": "ipython3",
   "version": "3.12.4"
  }
 },
 "nbformat": 4,
 "nbformat_minor": 5
}
