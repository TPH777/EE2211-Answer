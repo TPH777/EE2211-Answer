{
 "cells": [
  {
   "cell_type": "markdown",
   "id": "a7da33c6-fa12-47a5-917e-12f279659b80",
   "metadata": {},
   "source": [
    "### Tutorial 3 Question 5"
   ]
  },
  {
   "cell_type": "code",
   "execution_count": 6,
   "id": "66477ad9-c500-4955-8820-e0d61827b413",
   "metadata": {},
   "outputs": [],
   "source": [
    "from scipy import stats\n",
    "\n",
    "# define constants \n",
    "mu = 30 # mean = 30Ω\n",
    "sigma = 1.8 # standard deviation = 1.8Ω\n",
    "x1 = 28 # lower bound = 28Ω \n",
    "x2 = 33 # upper bound = 33Ω\n"
   ]
  },
  {
   "cell_type": "markdown",
   "id": "6ed57a89-cf05-4db0-ae65-60ea071b6043",
   "metadata": {},
   "source": [
    "stats.norm.cdf(x1, mu, sigma): This calculates the cumulative distribution function (CDF) of the normal distribution at x1 (28Ω). The CDF gives the probability that a normally distributed random variable is less than or equal to x1."
   ]
  },
  {
   "cell_type": "code",
   "execution_count": 14,
   "id": "efecf911-bdb4-4c6d-96d1-f63fa9de7bb3",
   "metadata": {},
   "outputs": [],
   "source": [
    "## calculate probabilities\n",
    "# probability from Z=0 to lower bound\n",
    "p_lower = stats.norm.cdf(x1,mu,sigma) \n",
    "\n",
    "# probability from Z=0 to upper bound\n",
    "p_upper = stats.norm.cdf(x2,mu,sigma)\n",
    "\n",
    "# probability of the interval\n",
    "Prob = (p_upper) - (p_lower)"
   ]
  },
  {
   "cell_type": "markdown",
   "id": "f711ff6e-eb78-4d7c-9441-7db9bd0a4723",
   "metadata": {},
   "source": [
    "Prob: The probability that the random variable falls within the interval [28Ω, 33Ω]. It is calculated by subtracting the probability of being less than 28Ω (p_lower) from the probability of being less than 33Ω (p_upper)."
   ]
  },
  {
   "cell_type": "code",
   "execution_count": null,
   "id": "badaa19a-5a16-4c80-865a-d7059ceadcda",
   "metadata": {},
   "outputs": [],
   "source": [
    "# print the results print('\\n')\n",
    "print(f'Normal distribution: mean = {mu}, std dev = {sigma} \\n')\n",
    "print(f'Probability of occurring between {x1} and {x2}: ')\n",
    "print(f'--> inside interval Pin = {round(Prob*100,1)}%') \n",
    "print(f'--> outside interval Pout = {round((1-Prob)*100,1)}% \\n')\n",
    "print('\\n')"
   ]
  }
 ],
 "metadata": {
  "kernelspec": {
   "display_name": "Python 3 (ipykernel)",
   "language": "python",
   "name": "python3"
  },
  "language_info": {
   "codemirror_mode": {
    "name": "ipython",
    "version": 3
   },
   "file_extension": ".py",
   "mimetype": "text/x-python",
   "name": "python",
   "nbconvert_exporter": "python",
   "pygments_lexer": "ipython3",
   "version": "3.12.4"
  }
 },
 "nbformat": 4,
 "nbformat_minor": 5
}
