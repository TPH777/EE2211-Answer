{
 "cells": [
  {
   "cell_type": "markdown",
   "id": "9d65d79d-02d6-407b-88c8-2584bfe0f97b",
   "metadata": {},
   "source": [
    "# Tutorial 3 Problem 4"
   ]
  },
  {
   "cell_type": "markdown",
   "id": "e8bb8059-d02e-411f-ab0e-78cee5279682",
   "metadata": {},
   "source": [
    "### (a) What is the probability that the sum of the dice equals seven?\n",
    "1. The first thing to do is characterize the measurable function for this as X : (a, b) → (a + b).\n",
    "2. Next, we associate all of the (a, b) pairs with their sum. A Python dictionary can be created like this:\n",
    "\n",
    "Note: \n",
    "Another useful data type built into Python is the dictionary (see Mapping Types — dict). Dictionaries are sometimes found in other languages as “associative memories” or “associative arrays”. Unlike sequences, which are indexed by a range of numbers, dictionaries are indexed by keys, which can be any immutable type; strings and numbers can always be keys. \n",
    "\n",
    "https://docs.python.org/3/tutorial/datastructures.html#dictionaries\n",
    "\n",
    "On an abstract level, it consists of a key with an associated value."
   ]
  },
  {
   "cell_type": "code",
   "execution_count": 2,
   "id": "9dade248-678c-4466-99b2-ae8c186ce3c9",
   "metadata": {},
   "outputs": [
    {
     "data": {
      "text/plain": [
       "{(1, 1): 2,\n",
       " (1, 2): 3,\n",
       " (1, 3): 4,\n",
       " (1, 4): 5,\n",
       " (1, 5): 6,\n",
       " (1, 6): 7,\n",
       " (2, 1): 3,\n",
       " (2, 2): 4,\n",
       " (2, 3): 5,\n",
       " (2, 4): 6,\n",
       " (2, 5): 7,\n",
       " (2, 6): 8,\n",
       " (3, 1): 4,\n",
       " (3, 2): 5,\n",
       " (3, 3): 6,\n",
       " (3, 4): 7,\n",
       " (3, 5): 8,\n",
       " (3, 6): 9,\n",
       " (4, 1): 5,\n",
       " (4, 2): 6,\n",
       " (4, 3): 7,\n",
       " (4, 4): 8,\n",
       " (4, 5): 9,\n",
       " (4, 6): 10,\n",
       " (5, 1): 6,\n",
       " (5, 2): 7,\n",
       " (5, 3): 8,\n",
       " (5, 4): 9,\n",
       " (5, 5): 10,\n",
       " (5, 6): 11,\n",
       " (6, 1): 7,\n",
       " (6, 2): 8,\n",
       " (6, 3): 9,\n",
       " (6, 4): 10,\n",
       " (6, 5): 11,\n",
       " (6, 6): 12}"
      ]
     },
     "execution_count": 2,
     "metadata": {},
     "output_type": "execute_result"
    }
   ],
   "source": [
    "#(i)\n",
    "d={(i,j):i+j for i in range(1,7) for j in range(1,7)}\n",
    "# d[(1,1)]\n",
    "d"
   ]
  },
  {
   "cell_type": "markdown",
   "id": "1580d090-4b1a-4feb-a53f-9eb928a03a27",
   "metadata": {},
   "source": [
    "### The next step is to collect all of the (a, b) pairs that sum to each of the possible values from two to twelve.\n",
    "This step can be considerred as inverting the diretionary mapping"
   ]
  },
  {
   "cell_type": "code",
   "execution_count": 11,
   "id": "ad8d4947-6afa-4a58-9097-fcf40de900fc",
   "metadata": {},
   "outputs": [
    {
     "data": {
      "text/plain": [
       "defaultdict(list,\n",
       "            {2: [(1, 1)],\n",
       "             3: [(1, 2), (2, 1)],\n",
       "             4: [(1, 3), (2, 2), (3, 1)],\n",
       "             5: [(1, 4), (2, 3), (3, 2), (4, 1)],\n",
       "             6: [(1, 5), (2, 4), (3, 3), (4, 2), (5, 1)],\n",
       "             7: [(1, 6), (2, 5), (3, 4), (4, 3), (5, 2), (6, 1)],\n",
       "             8: [(2, 6), (3, 5), (4, 4), (5, 3), (6, 2)],\n",
       "             9: [(3, 6), (4, 5), (5, 4), (6, 3)],\n",
       "             10: [(4, 6), (5, 5), (6, 4)],\n",
       "             11: [(5, 6), (6, 5)],\n",
       "             12: [(6, 6)]})"
      ]
     },
     "execution_count": 11,
     "metadata": {},
     "output_type": "execute_result"
    }
   ],
   "source": [
    "#(ii) collect all of the (a, b) pairs that sum to each of the possible values from two to twelve\n",
    "from collections import defaultdict\n",
    "dinv = defaultdict(list)\n",
    "for i,j in d.items(): dinv[j].append(i)\n",
    "\n",
    "dinv\n"
   ]
  },
  {
   "cell_type": "markdown",
   "id": "9c93d8e1-159d-4bba-bca6-a5dcf9a85b55",
   "metadata": {},
   "source": [
    "For example, dinv[7] contains the following list of pairs that sum to seven, [(1, 6), (2, 5), (5, 2), (6, 1), (4, 3), (3, 4)]. \n",
    "The next step is to compute the probability measured for each of these items.\n",
    "Using the independence assumption, this means we have to compute the sum of the products of the individual item probabilities in dinv. Because we know that each outcome is equally likely, the probability of every term in the sum equals 1/36."
   ]
  },
  {
   "cell_type": "code",
   "execution_count": 10,
   "id": "62555b0a-7b73-4394-b5fe-5177461c6f2b",
   "metadata": {},
   "outputs": [
    {
     "data": {
      "text/plain": [
       "{2: 0.027777777777777776,\n",
       " 3: 0.05555555555555555,\n",
       " 4: 0.08333333333333333,\n",
       " 5: 0.1111111111111111,\n",
       " 6: 0.1388888888888889,\n",
       " 7: 0.16666666666666666,\n",
       " 8: 0.1388888888888889,\n",
       " 9: 0.1111111111111111,\n",
       " 10: 0.08333333333333333,\n",
       " 11: 0.05555555555555555,\n",
       " 12: 0.027777777777777776}"
      ]
     },
     "execution_count": 10,
     "metadata": {},
     "output_type": "execute_result"
    }
   ],
   "source": [
    "# Compute the probability measured for each of these items\n",
    "# including the sum equals seven\n",
    "X={i:len(j)/36. for i,j in dinv.items() }\n",
    "X"
   ]
  },
  {
   "cell_type": "markdown",
   "id": "c4e4e0f6-8a4a-457f-bfc4-92775c28c324",
   "metadata": {},
   "source": [
    "### (b) What is the probability that half the product of three dice will exceed their sum?\n",
    "Using the same method above, we create the first mapping as follows:"
   ]
  },
  {
   "cell_type": "code",
   "execution_count": 19,
   "id": "18dc39e6-0f94-4b36-8d54-ab2e5e828d07",
   "metadata": {},
   "outputs": [],
   "source": [
    "d={(i,j,k):((i*j*k)/2>i+j+k) for i in range(1,7)\n",
    "                                for j in range(1,7)\n",
    "                                    for k in range(1,7)}\n",
    "\n",
    "# d"
   ]
  },
  {
   "cell_type": "markdown",
   "id": "cf8da6f8-c250-484a-85bf-d1f7b763c64b",
   "metadata": {},
   "source": [
    "The keys of this dictionary are the triples and the values are the logical values of whether or not half the product of\n",
    "three dice exceeds their sum. Now, we do the inverse mapping to collect the corresponding lists,"
   ]
  },
  {
   "cell_type": "code",
   "execution_count": 24,
   "id": "14d370b2-dffa-4e14-8bb3-f5916403969a",
   "metadata": {},
   "outputs": [
    {
     "data": {
      "text/plain": [
       "defaultdict(list,\n",
       "            {False: [(1, 1, 1),\n",
       "              (1, 1, 2),\n",
       "              (1, 1, 3),\n",
       "              (1, 1, 4),\n",
       "              (1, 1, 5),\n",
       "              (1, 1, 6),\n",
       "              (1, 2, 1),\n",
       "              (1, 2, 2),\n",
       "              (1, 2, 3),\n",
       "              (1, 2, 4),\n",
       "              (1, 2, 5),\n",
       "              (1, 2, 6),\n",
       "              (1, 3, 1),\n",
       "              (1, 3, 2),\n",
       "              (1, 3, 3),\n",
       "              (1, 3, 4),\n",
       "              (1, 3, 5),\n",
       "              (1, 3, 6),\n",
       "              (1, 4, 1),\n",
       "              (1, 4, 2),\n",
       "              (1, 4, 3),\n",
       "              (1, 4, 4),\n",
       "              (1, 4, 5),\n",
       "              (1, 5, 1),\n",
       "              (1, 5, 2),\n",
       "              (1, 5, 3),\n",
       "              (1, 5, 4),\n",
       "              (1, 6, 1),\n",
       "              (1, 6, 2),\n",
       "              (1, 6, 3),\n",
       "              (2, 1, 1),\n",
       "              (2, 1, 2),\n",
       "              (2, 1, 3),\n",
       "              (2, 1, 4),\n",
       "              (2, 1, 5),\n",
       "              (2, 1, 6),\n",
       "              (2, 2, 1),\n",
       "              (2, 2, 2),\n",
       "              (2, 2, 3),\n",
       "              (2, 2, 4),\n",
       "              (2, 3, 1),\n",
       "              (2, 3, 2),\n",
       "              (2, 4, 1),\n",
       "              (2, 4, 2),\n",
       "              (2, 5, 1),\n",
       "              (2, 6, 1),\n",
       "              (3, 1, 1),\n",
       "              (3, 1, 2),\n",
       "              (3, 1, 3),\n",
       "              (3, 1, 4),\n",
       "              (3, 1, 5),\n",
       "              (3, 1, 6),\n",
       "              (3, 2, 1),\n",
       "              (3, 2, 2),\n",
       "              (3, 3, 1),\n",
       "              (3, 4, 1),\n",
       "              (3, 5, 1),\n",
       "              (3, 6, 1),\n",
       "              (4, 1, 1),\n",
       "              (4, 1, 2),\n",
       "              (4, 1, 3),\n",
       "              (4, 1, 4),\n",
       "              (4, 1, 5),\n",
       "              (4, 2, 1),\n",
       "              (4, 2, 2),\n",
       "              (4, 3, 1),\n",
       "              (4, 4, 1),\n",
       "              (4, 5, 1),\n",
       "              (5, 1, 1),\n",
       "              (5, 1, 2),\n",
       "              (5, 1, 3),\n",
       "              (5, 1, 4),\n",
       "              (5, 2, 1),\n",
       "              (5, 3, 1),\n",
       "              (5, 4, 1),\n",
       "              (6, 1, 1),\n",
       "              (6, 1, 2),\n",
       "              (6, 1, 3),\n",
       "              (6, 2, 1),\n",
       "              (6, 3, 1)],\n",
       "             True: [(1, 4, 6),\n",
       "              (1, 5, 5),\n",
       "              (1, 5, 6),\n",
       "              (1, 6, 4),\n",
       "              (1, 6, 5),\n",
       "              (1, 6, 6),\n",
       "              (2, 2, 5),\n",
       "              (2, 2, 6),\n",
       "              (2, 3, 3),\n",
       "              (2, 3, 4),\n",
       "              (2, 3, 5),\n",
       "              (2, 3, 6),\n",
       "              (2, 4, 3),\n",
       "              (2, 4, 4),\n",
       "              (2, 4, 5),\n",
       "              (2, 4, 6),\n",
       "              (2, 5, 2),\n",
       "              (2, 5, 3),\n",
       "              (2, 5, 4),\n",
       "              (2, 5, 5),\n",
       "              (2, 5, 6),\n",
       "              (2, 6, 2),\n",
       "              (2, 6, 3),\n",
       "              (2, 6, 4),\n",
       "              (2, 6, 5),\n",
       "              (2, 6, 6),\n",
       "              (3, 2, 3),\n",
       "              (3, 2, 4),\n",
       "              (3, 2, 5),\n",
       "              (3, 2, 6),\n",
       "              (3, 3, 2),\n",
       "              (3, 3, 3),\n",
       "              (3, 3, 4),\n",
       "              (3, 3, 5),\n",
       "              (3, 3, 6),\n",
       "              (3, 4, 2),\n",
       "              (3, 4, 3),\n",
       "              (3, 4, 4),\n",
       "              (3, 4, 5),\n",
       "              (3, 4, 6),\n",
       "              (3, 5, 2),\n",
       "              (3, 5, 3),\n",
       "              (3, 5, 4),\n",
       "              (3, 5, 5),\n",
       "              (3, 5, 6),\n",
       "              (3, 6, 2),\n",
       "              (3, 6, 3),\n",
       "              (3, 6, 4),\n",
       "              (3, 6, 5),\n",
       "              (3, 6, 6),\n",
       "              (4, 1, 6),\n",
       "              (4, 2, 3),\n",
       "              (4, 2, 4),\n",
       "              (4, 2, 5),\n",
       "              (4, 2, 6),\n",
       "              (4, 3, 2),\n",
       "              (4, 3, 3),\n",
       "              (4, 3, 4),\n",
       "              (4, 3, 5),\n",
       "              (4, 3, 6),\n",
       "              (4, 4, 2),\n",
       "              (4, 4, 3),\n",
       "              (4, 4, 4),\n",
       "              (4, 4, 5),\n",
       "              (4, 4, 6),\n",
       "              (4, 5, 2),\n",
       "              (4, 5, 3),\n",
       "              (4, 5, 4),\n",
       "              (4, 5, 5),\n",
       "              (4, 5, 6),\n",
       "              (4, 6, 1),\n",
       "              (4, 6, 2),\n",
       "              (4, 6, 3),\n",
       "              (4, 6, 4),\n",
       "              (4, 6, 5),\n",
       "              (4, 6, 6),\n",
       "              (5, 1, 5),\n",
       "              (5, 1, 6),\n",
       "              (5, 2, 2),\n",
       "              (5, 2, 3),\n",
       "              (5, 2, 4),\n",
       "              (5, 2, 5),\n",
       "              (5, 2, 6),\n",
       "              (5, 3, 2),\n",
       "              (5, 3, 3),\n",
       "              (5, 3, 4),\n",
       "              (5, 3, 5),\n",
       "              (5, 3, 6),\n",
       "              (5, 4, 2),\n",
       "              (5, 4, 3),\n",
       "              (5, 4, 4),\n",
       "              (5, 4, 5),\n",
       "              (5, 4, 6),\n",
       "              (5, 5, 1),\n",
       "              (5, 5, 2),\n",
       "              (5, 5, 3),\n",
       "              (5, 5, 4),\n",
       "              (5, 5, 5),\n",
       "              (5, 5, 6),\n",
       "              (5, 6, 1),\n",
       "              (5, 6, 2),\n",
       "              (5, 6, 3),\n",
       "              (5, 6, 4),\n",
       "              (5, 6, 5),\n",
       "              (5, 6, 6),\n",
       "              (6, 1, 4),\n",
       "              (6, 1, 5),\n",
       "              (6, 1, 6),\n",
       "              (6, 2, 2),\n",
       "              (6, 2, 3),\n",
       "              (6, 2, 4),\n",
       "              (6, 2, 5),\n",
       "              (6, 2, 6),\n",
       "              (6, 3, 2),\n",
       "              (6, 3, 3),\n",
       "              (6, 3, 4),\n",
       "              (6, 3, 5),\n",
       "              (6, 3, 6),\n",
       "              (6, 4, 1),\n",
       "              (6, 4, 2),\n",
       "              (6, 4, 3),\n",
       "              (6, 4, 4),\n",
       "              (6, 4, 5),\n",
       "              (6, 4, 6),\n",
       "              (6, 5, 1),\n",
       "              (6, 5, 2),\n",
       "              (6, 5, 3),\n",
       "              (6, 5, 4),\n",
       "              (6, 5, 5),\n",
       "              (6, 5, 6),\n",
       "              (6, 6, 1),\n",
       "              (6, 6, 2),\n",
       "              (6, 6, 3),\n",
       "              (6, 6, 4),\n",
       "              (6, 6, 5),\n",
       "              (6, 6, 6)]})"
      ]
     },
     "execution_count": 24,
     "metadata": {},
     "output_type": "execute_result"
    }
   ],
   "source": [
    "dinv = defaultdict(list)\n",
    "for i,j in d.items(): dinv[j].append(i)\n",
    "\n",
    "dinv"
   ]
  },
  {
   "cell_type": "markdown",
   "id": "b943075d-fdbf-4502-9219-34707a230bc6",
   "metadata": {},
   "source": [
    "* Note that dinv contains only two keys, True and False.\n",
    "* Again, because the dice are independent, the probability of\n",
    "any triple is $1/(6^3)$.\n",
    "* Finally, we collect this for each outcome as in the following,"
   ]
  },
  {
   "cell_type": "code",
   "execution_count": 16,
   "id": "264f4aae-b81b-467b-941c-b5bbfac5e648",
   "metadata": {},
   "outputs": [
    {
     "data": {
      "text/plain": [
       "{False: 0.37037037037037035, True: 0.6296296296296297}"
      ]
     },
     "execution_count": 16,
     "metadata": {},
     "output_type": "execute_result"
    }
   ],
   "source": [
    "X={i:len(j)/6.0**3 for i,j in dinv.items() }\n",
    "X"
   ]
  },
  {
   "cell_type": "code",
   "execution_count": null,
   "id": "52049a31-b23e-4216-b989-79945464a6ee",
   "metadata": {},
   "outputs": [],
   "source": []
  }
 ],
 "metadata": {
  "kernelspec": {
   "display_name": "Python 3 (ipykernel)",
   "language": "python",
   "name": "python3"
  },
  "language_info": {
   "codemirror_mode": {
    "name": "ipython",
    "version": 3
   },
   "file_extension": ".py",
   "mimetype": "text/x-python",
   "name": "python",
   "nbconvert_exporter": "python",
   "pygments_lexer": "ipython3",
   "version": "3.12.4"
  }
 },
 "nbformat": 4,
 "nbformat_minor": 5
}
