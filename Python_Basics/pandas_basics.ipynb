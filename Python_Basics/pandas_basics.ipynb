{
 "cells": [
  {
   "cell_type": "markdown",
   "id": "415b8740-1282-4389-8d72-1453c3fc6ff4",
   "metadata": {},
   "source": [
    "### 10 minutes to pandas\n",
    "https://pandas.pydata.org/docs/user_guide/10min.html#minutes-to-pandas "
   ]
  },
  {
   "cell_type": "code",
   "execution_count": 3,
   "id": "44399c52-b5e7-4db7-8831-51c7104db3f9",
   "metadata": {},
   "outputs": [],
   "source": [
    "import numpy as np\n",
    "import pandas as pd"
   ]
  },
  {
   "cell_type": "markdown",
   "id": "67d56a08-6d07-43fb-8ee9-3e8169e7741a",
   "metadata": {},
   "source": [
    "### Basic data structures in pandas\n",
    "\n",
    "Pandas provides two types of classes for handling data:\n",
    "\n",
    "1. Series: a one-dimensional labeled array holding data of any type\n",
    "    such as integers, strings, Python objects etc.\n",
    "\n",
    "2. DataFrame: a two-dimensional data structure that holds data like a two-dimension array or a table with rows and columns.\n"
   ]
  },
  {
   "cell_type": "markdown",
   "id": "e7dba97d-726c-40db-8676-2ce57631af68",
   "metadata": {},
   "source": [
    "### Object creation\n",
    "Creating a Series by passing a list of values, letting pandas create a default RangeIndex."
   ]
  },
  {
   "cell_type": "code",
   "execution_count": 6,
   "id": "bb5c0375-4265-4e51-bf0b-9d26d0078aa7",
   "metadata": {},
   "outputs": [
    {
     "data": {
      "text/plain": [
       "0    1.0\n",
       "1    3.0\n",
       "2    5.0\n",
       "3    NaN\n",
       "4    6.0\n",
       "5    8.0\n",
       "dtype: float64"
      ]
     },
     "execution_count": 6,
     "metadata": {},
     "output_type": "execute_result"
    }
   ],
   "source": [
    "s = pd.Series([1, 3, 5, np.nan, 6, 8])\n",
    "s"
   ]
  },
  {
   "cell_type": "markdown",
   "id": "f47717f5-62d2-4e2a-a92c-1af41d20bbbb",
   "metadata": {},
   "source": [
    "Creating a DataFrame by passing a NumPy array with a datetime index using date_range() and labeled columns:"
   ]
  },
  {
   "cell_type": "code",
   "execution_count": 8,
   "id": "5a1933ce-2a39-4010-8b12-25a35120237e",
   "metadata": {},
   "outputs": [
    {
     "data": {
      "text/plain": [
       "DatetimeIndex(['2013-01-01', '2013-01-02', '2013-01-03', '2013-01-04',\n",
       "               '2013-01-05', '2013-01-06'],\n",
       "              dtype='datetime64[ns]', freq='D')"
      ]
     },
     "execution_count": 8,
     "metadata": {},
     "output_type": "execute_result"
    }
   ],
   "source": [
    "dates = pd.date_range(\"20130101\", periods=6)\n",
    "dates"
   ]
  },
  {
   "cell_type": "code",
   "execution_count": 66,
   "id": "f5853d17-4037-431f-9733-417d6e13c7a8",
   "metadata": {},
   "outputs": [
    {
     "data": {
      "text/html": [
       "<div>\n",
       "<style scoped>\n",
       "    .dataframe tbody tr th:only-of-type {\n",
       "        vertical-align: middle;\n",
       "    }\n",
       "\n",
       "    .dataframe tbody tr th {\n",
       "        vertical-align: top;\n",
       "    }\n",
       "\n",
       "    .dataframe thead th {\n",
       "        text-align: right;\n",
       "    }\n",
       "</style>\n",
       "<table border=\"1\" class=\"dataframe\">\n",
       "  <thead>\n",
       "    <tr style=\"text-align: right;\">\n",
       "      <th></th>\n",
       "      <th>A</th>\n",
       "      <th>B</th>\n",
       "      <th>C</th>\n",
       "      <th>D</th>\n",
       "    </tr>\n",
       "  </thead>\n",
       "  <tbody>\n",
       "    <tr>\n",
       "      <th>2013-01-01</th>\n",
       "      <td>0.382087</td>\n",
       "      <td>-1.871050</td>\n",
       "      <td>1.015998</td>\n",
       "      <td>0.370699</td>\n",
       "    </tr>\n",
       "    <tr>\n",
       "      <th>2013-01-02</th>\n",
       "      <td>0.198678</td>\n",
       "      <td>-1.344216</td>\n",
       "      <td>-0.391337</td>\n",
       "      <td>1.178942</td>\n",
       "    </tr>\n",
       "    <tr>\n",
       "      <th>2013-01-03</th>\n",
       "      <td>0.672602</td>\n",
       "      <td>1.352077</td>\n",
       "      <td>-0.435937</td>\n",
       "      <td>-0.169809</td>\n",
       "    </tr>\n",
       "    <tr>\n",
       "      <th>2013-01-04</th>\n",
       "      <td>-0.070704</td>\n",
       "      <td>0.776498</td>\n",
       "      <td>-0.267532</td>\n",
       "      <td>0.456509</td>\n",
       "    </tr>\n",
       "    <tr>\n",
       "      <th>2013-01-05</th>\n",
       "      <td>-0.177941</td>\n",
       "      <td>-1.135375</td>\n",
       "      <td>-0.430509</td>\n",
       "      <td>-0.073006</td>\n",
       "    </tr>\n",
       "    <tr>\n",
       "      <th>2013-01-06</th>\n",
       "      <td>-0.029363</td>\n",
       "      <td>1.339715</td>\n",
       "      <td>0.031140</td>\n",
       "      <td>1.215037</td>\n",
       "    </tr>\n",
       "  </tbody>\n",
       "</table>\n",
       "</div>"
      ],
      "text/plain": [
       "                   A         B         C         D\n",
       "2013-01-01  0.382087 -1.871050  1.015998  0.370699\n",
       "2013-01-02  0.198678 -1.344216 -0.391337  1.178942\n",
       "2013-01-03  0.672602  1.352077 -0.435937 -0.169809\n",
       "2013-01-04 -0.070704  0.776498 -0.267532  0.456509\n",
       "2013-01-05 -0.177941 -1.135375 -0.430509 -0.073006\n",
       "2013-01-06 -0.029363  1.339715  0.031140  1.215037"
      ]
     },
     "execution_count": 66,
     "metadata": {},
     "output_type": "execute_result"
    }
   ],
   "source": [
    "df = pd.DataFrame(np.random.randn(6, 4), index=dates, columns=list(\"ABCD\"))\n",
    "df"
   ]
  },
  {
   "cell_type": "markdown",
   "id": "e75d31e5-a673-4e20-93a0-35fabaa02a4a",
   "metadata": {},
   "source": [
    "Creating a DataFrame by passing a dictionary of objects where the keys are the column labels and the values are the column values."
   ]
  },
  {
   "cell_type": "code",
   "execution_count": 11,
   "id": "131609fe-0b87-4df9-8c19-04470c157943",
   "metadata": {},
   "outputs": [
    {
     "data": {
      "text/html": [
       "<div>\n",
       "<style scoped>\n",
       "    .dataframe tbody tr th:only-of-type {\n",
       "        vertical-align: middle;\n",
       "    }\n",
       "\n",
       "    .dataframe tbody tr th {\n",
       "        vertical-align: top;\n",
       "    }\n",
       "\n",
       "    .dataframe thead th {\n",
       "        text-align: right;\n",
       "    }\n",
       "</style>\n",
       "<table border=\"1\" class=\"dataframe\">\n",
       "  <thead>\n",
       "    <tr style=\"text-align: right;\">\n",
       "      <th></th>\n",
       "      <th>A</th>\n",
       "      <th>B</th>\n",
       "      <th>C</th>\n",
       "      <th>D</th>\n",
       "      <th>E</th>\n",
       "      <th>F</th>\n",
       "    </tr>\n",
       "  </thead>\n",
       "  <tbody>\n",
       "    <tr>\n",
       "      <th>0</th>\n",
       "      <td>1.0</td>\n",
       "      <td>2013-01-02</td>\n",
       "      <td>1.0</td>\n",
       "      <td>3</td>\n",
       "      <td>test</td>\n",
       "      <td>foo</td>\n",
       "    </tr>\n",
       "    <tr>\n",
       "      <th>1</th>\n",
       "      <td>1.0</td>\n",
       "      <td>2013-01-02</td>\n",
       "      <td>1.0</td>\n",
       "      <td>3</td>\n",
       "      <td>train</td>\n",
       "      <td>foo</td>\n",
       "    </tr>\n",
       "    <tr>\n",
       "      <th>2</th>\n",
       "      <td>1.0</td>\n",
       "      <td>2013-01-02</td>\n",
       "      <td>1.0</td>\n",
       "      <td>3</td>\n",
       "      <td>test</td>\n",
       "      <td>foo</td>\n",
       "    </tr>\n",
       "    <tr>\n",
       "      <th>3</th>\n",
       "      <td>1.0</td>\n",
       "      <td>2013-01-02</td>\n",
       "      <td>1.0</td>\n",
       "      <td>3</td>\n",
       "      <td>train</td>\n",
       "      <td>foo</td>\n",
       "    </tr>\n",
       "  </tbody>\n",
       "</table>\n",
       "</div>"
      ],
      "text/plain": [
       "     A          B    C  D      E    F\n",
       "0  1.0 2013-01-02  1.0  3   test  foo\n",
       "1  1.0 2013-01-02  1.0  3  train  foo\n",
       "2  1.0 2013-01-02  1.0  3   test  foo\n",
       "3  1.0 2013-01-02  1.0  3  train  foo"
      ]
     },
     "execution_count": 11,
     "metadata": {},
     "output_type": "execute_result"
    }
   ],
   "source": [
    "df2 = pd.DataFrame(\n",
    "\n",
    "    {\n",
    "\n",
    "        \"A\": 1.0,\n",
    "\n",
    "        \"B\": pd.Timestamp(\"20130102\"),\n",
    "\n",
    "        \"C\": pd.Series(1, index=list(range(4)), dtype=\"float32\"),\n",
    "\n",
    "        \"D\": np.array([3] * 4, dtype=\"int32\"),\n",
    "\n",
    "        \"E\": pd.Categorical([\"test\", \"train\", \"test\", \"train\"]),\n",
    "\n",
    "        \"F\": \"foo\",\n",
    "\n",
    "    }\n",
    "\n",
    ")\n",
    "\n",
    "df2"
   ]
  },
  {
   "cell_type": "markdown",
   "id": "a48dec76-7e74-4399-a0a9-c304fa295c77",
   "metadata": {},
   "source": [
    "The columns of the resulting DataFrame have different dtypes:"
   ]
  },
  {
   "cell_type": "code",
   "execution_count": 13,
   "id": "b641e59b-9a5e-4271-b9b1-f0a80b35851f",
   "metadata": {},
   "outputs": [
    {
     "data": {
      "text/plain": [
       "A          float64\n",
       "B    datetime64[s]\n",
       "C          float32\n",
       "D            int32\n",
       "E         category\n",
       "F           object\n",
       "dtype: object"
      ]
     },
     "execution_count": 13,
     "metadata": {},
     "output_type": "execute_result"
    }
   ],
   "source": [
    "df2.dtypes"
   ]
  },
  {
   "cell_type": "markdown",
   "id": "4b6fd94a-ad1f-43ea-9696-bffd46c04696",
   "metadata": {},
   "source": [
    "### Viewing data\n",
    "Use DataFrame.head() and DataFrame.tail() to view the top and bottom rows of the frame respectively:"
   ]
  },
  {
   "cell_type": "code",
   "execution_count": 15,
   "id": "2f764cfb-e125-4010-9a1a-840c3da43d31",
   "metadata": {},
   "outputs": [
    {
     "data": {
      "text/html": [
       "<div>\n",
       "<style scoped>\n",
       "    .dataframe tbody tr th:only-of-type {\n",
       "        vertical-align: middle;\n",
       "    }\n",
       "\n",
       "    .dataframe tbody tr th {\n",
       "        vertical-align: top;\n",
       "    }\n",
       "\n",
       "    .dataframe thead th {\n",
       "        text-align: right;\n",
       "    }\n",
       "</style>\n",
       "<table border=\"1\" class=\"dataframe\">\n",
       "  <thead>\n",
       "    <tr style=\"text-align: right;\">\n",
       "      <th></th>\n",
       "      <th>A</th>\n",
       "      <th>B</th>\n",
       "      <th>C</th>\n",
       "      <th>D</th>\n",
       "    </tr>\n",
       "  </thead>\n",
       "  <tbody>\n",
       "    <tr>\n",
       "      <th>2013-01-01</th>\n",
       "      <td>-0.799797</td>\n",
       "      <td>-0.957632</td>\n",
       "      <td>0.034081</td>\n",
       "      <td>1.054500</td>\n",
       "    </tr>\n",
       "    <tr>\n",
       "      <th>2013-01-02</th>\n",
       "      <td>0.298638</td>\n",
       "      <td>-0.558066</td>\n",
       "      <td>-0.852440</td>\n",
       "      <td>-0.545475</td>\n",
       "    </tr>\n",
       "    <tr>\n",
       "      <th>2013-01-03</th>\n",
       "      <td>0.635410</td>\n",
       "      <td>0.601893</td>\n",
       "      <td>-0.596859</td>\n",
       "      <td>0.238593</td>\n",
       "    </tr>\n",
       "    <tr>\n",
       "      <th>2013-01-04</th>\n",
       "      <td>0.707160</td>\n",
       "      <td>1.727727</td>\n",
       "      <td>1.312219</td>\n",
       "      <td>1.283402</td>\n",
       "    </tr>\n",
       "    <tr>\n",
       "      <th>2013-01-05</th>\n",
       "      <td>0.714390</td>\n",
       "      <td>1.402132</td>\n",
       "      <td>0.720214</td>\n",
       "      <td>0.894386</td>\n",
       "    </tr>\n",
       "  </tbody>\n",
       "</table>\n",
       "</div>"
      ],
      "text/plain": [
       "                   A         B         C         D\n",
       "2013-01-01 -0.799797 -0.957632  0.034081  1.054500\n",
       "2013-01-02  0.298638 -0.558066 -0.852440 -0.545475\n",
       "2013-01-03  0.635410  0.601893 -0.596859  0.238593\n",
       "2013-01-04  0.707160  1.727727  1.312219  1.283402\n",
       "2013-01-05  0.714390  1.402132  0.720214  0.894386"
      ]
     },
     "execution_count": 15,
     "metadata": {},
     "output_type": "execute_result"
    }
   ],
   "source": [
    "df.head()"
   ]
  },
  {
   "cell_type": "code",
   "execution_count": 16,
   "id": "24b78e87-ed01-48e3-88f5-98bcb9408b46",
   "metadata": {},
   "outputs": [
    {
     "data": {
      "text/html": [
       "<div>\n",
       "<style scoped>\n",
       "    .dataframe tbody tr th:only-of-type {\n",
       "        vertical-align: middle;\n",
       "    }\n",
       "\n",
       "    .dataframe tbody tr th {\n",
       "        vertical-align: top;\n",
       "    }\n",
       "\n",
       "    .dataframe thead th {\n",
       "        text-align: right;\n",
       "    }\n",
       "</style>\n",
       "<table border=\"1\" class=\"dataframe\">\n",
       "  <thead>\n",
       "    <tr style=\"text-align: right;\">\n",
       "      <th></th>\n",
       "      <th>A</th>\n",
       "      <th>B</th>\n",
       "      <th>C</th>\n",
       "      <th>D</th>\n",
       "    </tr>\n",
       "  </thead>\n",
       "  <tbody>\n",
       "    <tr>\n",
       "      <th>2013-01-04</th>\n",
       "      <td>0.707160</td>\n",
       "      <td>1.727727</td>\n",
       "      <td>1.312219</td>\n",
       "      <td>1.283402</td>\n",
       "    </tr>\n",
       "    <tr>\n",
       "      <th>2013-01-05</th>\n",
       "      <td>0.714390</td>\n",
       "      <td>1.402132</td>\n",
       "      <td>0.720214</td>\n",
       "      <td>0.894386</td>\n",
       "    </tr>\n",
       "    <tr>\n",
       "      <th>2013-01-06</th>\n",
       "      <td>-1.488932</td>\n",
       "      <td>-0.598389</td>\n",
       "      <td>-0.099698</td>\n",
       "      <td>0.902816</td>\n",
       "    </tr>\n",
       "  </tbody>\n",
       "</table>\n",
       "</div>"
      ],
      "text/plain": [
       "                   A         B         C         D\n",
       "2013-01-04  0.707160  1.727727  1.312219  1.283402\n",
       "2013-01-05  0.714390  1.402132  0.720214  0.894386\n",
       "2013-01-06 -1.488932 -0.598389 -0.099698  0.902816"
      ]
     },
     "execution_count": 16,
     "metadata": {},
     "output_type": "execute_result"
    }
   ],
   "source": [
    "df.tail(3)"
   ]
  },
  {
   "cell_type": "markdown",
   "id": "149b1f24-662f-4b3f-8002-b361607f6f44",
   "metadata": {},
   "source": [
    "Display the DataFrame.index or DataFrame.columns:"
   ]
  },
  {
   "cell_type": "code",
   "execution_count": 18,
   "id": "5ed618c2-9c45-4d09-b6f8-8cd22028eb83",
   "metadata": {},
   "outputs": [
    {
     "data": {
      "text/plain": [
       "DatetimeIndex(['2013-01-01', '2013-01-02', '2013-01-03', '2013-01-04',\n",
       "               '2013-01-05', '2013-01-06'],\n",
       "              dtype='datetime64[ns]', freq='D')"
      ]
     },
     "execution_count": 18,
     "metadata": {},
     "output_type": "execute_result"
    }
   ],
   "source": [
    "df.index"
   ]
  },
  {
   "cell_type": "markdown",
   "id": "445ccac8-0b66-4825-a947-4e01733b7316",
   "metadata": {},
   "source": [
    "Return a NumPy representation of the underlying data with DataFrame.to_numpy() without the index or column labels:"
   ]
  },
  {
   "cell_type": "code",
   "execution_count": 30,
   "id": "1cdef41e-b761-4ded-9e11-97842a5d31c1",
   "metadata": {},
   "outputs": [
    {
     "data": {
      "text/plain": [
       "array([[-0.79979653, -0.95763154,  0.03408109,  1.0544997 ],\n",
       "       [ 0.29863755, -0.55806558, -0.85244009, -0.54547455],\n",
       "       [ 0.63540967,  0.60189327, -0.59685865,  0.23859302],\n",
       "       [ 0.70715951,  1.72772737,  1.31221874,  1.28340216],\n",
       "       [ 0.7143897 ,  1.40213204,  0.72021381,  0.89438637],\n",
       "       [-1.48893191, -0.59838889, -0.09969758,  0.90281584]])"
      ]
     },
     "execution_count": 30,
     "metadata": {},
     "output_type": "execute_result"
    }
   ],
   "source": [
    "df.to_numpy()"
   ]
  },
  {
   "cell_type": "markdown",
   "id": "7f56fd76-6d93-4f91-9365-000a261e1dbe",
   "metadata": {},
   "source": [
    "describe() shows a quick statistic summary of your data:"
   ]
  },
  {
   "cell_type": "code",
   "execution_count": 33,
   "id": "e6e47026-a2e6-4371-8e1e-07f6e53f5f10",
   "metadata": {},
   "outputs": [
    {
     "data": {
      "text/html": [
       "<div>\n",
       "<style scoped>\n",
       "    .dataframe tbody tr th:only-of-type {\n",
       "        vertical-align: middle;\n",
       "    }\n",
       "\n",
       "    .dataframe tbody tr th {\n",
       "        vertical-align: top;\n",
       "    }\n",
       "\n",
       "    .dataframe thead th {\n",
       "        text-align: right;\n",
       "    }\n",
       "</style>\n",
       "<table border=\"1\" class=\"dataframe\">\n",
       "  <thead>\n",
       "    <tr style=\"text-align: right;\">\n",
       "      <th></th>\n",
       "      <th>A</th>\n",
       "      <th>B</th>\n",
       "      <th>C</th>\n",
       "      <th>D</th>\n",
       "    </tr>\n",
       "  </thead>\n",
       "  <tbody>\n",
       "    <tr>\n",
       "      <th>count</th>\n",
       "      <td>6.000000</td>\n",
       "      <td>6.000000</td>\n",
       "      <td>6.000000</td>\n",
       "      <td>6.000000</td>\n",
       "    </tr>\n",
       "    <tr>\n",
       "      <th>mean</th>\n",
       "      <td>0.011145</td>\n",
       "      <td>0.269611</td>\n",
       "      <td>0.086253</td>\n",
       "      <td>0.638037</td>\n",
       "    </tr>\n",
       "    <tr>\n",
       "      <th>std</th>\n",
       "      <td>0.933724</td>\n",
       "      <td>1.136989</td>\n",
       "      <td>0.811170</td>\n",
       "      <td>0.676168</td>\n",
       "    </tr>\n",
       "    <tr>\n",
       "      <th>min</th>\n",
       "      <td>-1.488932</td>\n",
       "      <td>-0.957632</td>\n",
       "      <td>-0.852440</td>\n",
       "      <td>-0.545475</td>\n",
       "    </tr>\n",
       "    <tr>\n",
       "      <th>25%</th>\n",
       "      <td>-0.525188</td>\n",
       "      <td>-0.588308</td>\n",
       "      <td>-0.472568</td>\n",
       "      <td>0.402541</td>\n",
       "    </tr>\n",
       "    <tr>\n",
       "      <th>50%</th>\n",
       "      <td>0.467024</td>\n",
       "      <td>0.021914</td>\n",
       "      <td>-0.032808</td>\n",
       "      <td>0.898601</td>\n",
       "    </tr>\n",
       "    <tr>\n",
       "      <th>75%</th>\n",
       "      <td>0.689222</td>\n",
       "      <td>1.202072</td>\n",
       "      <td>0.548681</td>\n",
       "      <td>1.016579</td>\n",
       "    </tr>\n",
       "    <tr>\n",
       "      <th>max</th>\n",
       "      <td>0.714390</td>\n",
       "      <td>1.727727</td>\n",
       "      <td>1.312219</td>\n",
       "      <td>1.283402</td>\n",
       "    </tr>\n",
       "  </tbody>\n",
       "</table>\n",
       "</div>"
      ],
      "text/plain": [
       "              A         B         C         D\n",
       "count  6.000000  6.000000  6.000000  6.000000\n",
       "mean   0.011145  0.269611  0.086253  0.638037\n",
       "std    0.933724  1.136989  0.811170  0.676168\n",
       "min   -1.488932 -0.957632 -0.852440 -0.545475\n",
       "25%   -0.525188 -0.588308 -0.472568  0.402541\n",
       "50%    0.467024  0.021914 -0.032808  0.898601\n",
       "75%    0.689222  1.202072  0.548681  1.016579\n",
       "max    0.714390  1.727727  1.312219  1.283402"
      ]
     },
     "execution_count": 33,
     "metadata": {},
     "output_type": "execute_result"
    }
   ],
   "source": [
    "df.describe()"
   ]
  },
  {
   "cell_type": "markdown",
   "id": "28707b26-0e4d-4ec4-b248-608ab02fa270",
   "metadata": {},
   "source": [
    "Transposing your data:"
   ]
  },
  {
   "cell_type": "code",
   "execution_count": 37,
   "id": "a38f52e1-22bb-4e01-98fa-ada0bcbb0085",
   "metadata": {},
   "outputs": [
    {
     "data": {
      "text/html": [
       "<div>\n",
       "<style scoped>\n",
       "    .dataframe tbody tr th:only-of-type {\n",
       "        vertical-align: middle;\n",
       "    }\n",
       "\n",
       "    .dataframe tbody tr th {\n",
       "        vertical-align: top;\n",
       "    }\n",
       "\n",
       "    .dataframe thead th {\n",
       "        text-align: right;\n",
       "    }\n",
       "</style>\n",
       "<table border=\"1\" class=\"dataframe\">\n",
       "  <thead>\n",
       "    <tr style=\"text-align: right;\">\n",
       "      <th></th>\n",
       "      <th>2013-01-01</th>\n",
       "      <th>2013-01-02</th>\n",
       "      <th>2013-01-03</th>\n",
       "      <th>2013-01-04</th>\n",
       "      <th>2013-01-05</th>\n",
       "      <th>2013-01-06</th>\n",
       "    </tr>\n",
       "  </thead>\n",
       "  <tbody>\n",
       "    <tr>\n",
       "      <th>A</th>\n",
       "      <td>-0.799797</td>\n",
       "      <td>0.298638</td>\n",
       "      <td>0.635410</td>\n",
       "      <td>0.707160</td>\n",
       "      <td>0.714390</td>\n",
       "      <td>-1.488932</td>\n",
       "    </tr>\n",
       "    <tr>\n",
       "      <th>B</th>\n",
       "      <td>-0.957632</td>\n",
       "      <td>-0.558066</td>\n",
       "      <td>0.601893</td>\n",
       "      <td>1.727727</td>\n",
       "      <td>1.402132</td>\n",
       "      <td>-0.598389</td>\n",
       "    </tr>\n",
       "    <tr>\n",
       "      <th>C</th>\n",
       "      <td>0.034081</td>\n",
       "      <td>-0.852440</td>\n",
       "      <td>-0.596859</td>\n",
       "      <td>1.312219</td>\n",
       "      <td>0.720214</td>\n",
       "      <td>-0.099698</td>\n",
       "    </tr>\n",
       "    <tr>\n",
       "      <th>D</th>\n",
       "      <td>1.054500</td>\n",
       "      <td>-0.545475</td>\n",
       "      <td>0.238593</td>\n",
       "      <td>1.283402</td>\n",
       "      <td>0.894386</td>\n",
       "      <td>0.902816</td>\n",
       "    </tr>\n",
       "  </tbody>\n",
       "</table>\n",
       "</div>"
      ],
      "text/plain": [
       "   2013-01-01  2013-01-02  2013-01-03  2013-01-04  2013-01-05  2013-01-06\n",
       "A   -0.799797    0.298638    0.635410    0.707160    0.714390   -1.488932\n",
       "B   -0.957632   -0.558066    0.601893    1.727727    1.402132   -0.598389\n",
       "C    0.034081   -0.852440   -0.596859    1.312219    0.720214   -0.099698\n",
       "D    1.054500   -0.545475    0.238593    1.283402    0.894386    0.902816"
      ]
     },
     "execution_count": 37,
     "metadata": {},
     "output_type": "execute_result"
    }
   ],
   "source": [
    "df.T"
   ]
  },
  {
   "cell_type": "markdown",
   "id": "802dd470-3761-488b-acf5-30084a54c58d",
   "metadata": {},
   "source": [
    "DataFrame.sort_index() sorts by an axis:"
   ]
  },
  {
   "cell_type": "code",
   "execution_count": 40,
   "id": "8b3f68e0-4cbe-485e-a0d8-a04697363df8",
   "metadata": {},
   "outputs": [
    {
     "data": {
      "text/html": [
       "<div>\n",
       "<style scoped>\n",
       "    .dataframe tbody tr th:only-of-type {\n",
       "        vertical-align: middle;\n",
       "    }\n",
       "\n",
       "    .dataframe tbody tr th {\n",
       "        vertical-align: top;\n",
       "    }\n",
       "\n",
       "    .dataframe thead th {\n",
       "        text-align: right;\n",
       "    }\n",
       "</style>\n",
       "<table border=\"1\" class=\"dataframe\">\n",
       "  <thead>\n",
       "    <tr style=\"text-align: right;\">\n",
       "      <th></th>\n",
       "      <th>D</th>\n",
       "      <th>C</th>\n",
       "      <th>B</th>\n",
       "      <th>A</th>\n",
       "    </tr>\n",
       "  </thead>\n",
       "  <tbody>\n",
       "    <tr>\n",
       "      <th>2013-01-01</th>\n",
       "      <td>1.054500</td>\n",
       "      <td>0.034081</td>\n",
       "      <td>-0.957632</td>\n",
       "      <td>-0.799797</td>\n",
       "    </tr>\n",
       "    <tr>\n",
       "      <th>2013-01-02</th>\n",
       "      <td>-0.545475</td>\n",
       "      <td>-0.852440</td>\n",
       "      <td>-0.558066</td>\n",
       "      <td>0.298638</td>\n",
       "    </tr>\n",
       "    <tr>\n",
       "      <th>2013-01-03</th>\n",
       "      <td>0.238593</td>\n",
       "      <td>-0.596859</td>\n",
       "      <td>0.601893</td>\n",
       "      <td>0.635410</td>\n",
       "    </tr>\n",
       "    <tr>\n",
       "      <th>2013-01-04</th>\n",
       "      <td>1.283402</td>\n",
       "      <td>1.312219</td>\n",
       "      <td>1.727727</td>\n",
       "      <td>0.707160</td>\n",
       "    </tr>\n",
       "    <tr>\n",
       "      <th>2013-01-05</th>\n",
       "      <td>0.894386</td>\n",
       "      <td>0.720214</td>\n",
       "      <td>1.402132</td>\n",
       "      <td>0.714390</td>\n",
       "    </tr>\n",
       "    <tr>\n",
       "      <th>2013-01-06</th>\n",
       "      <td>0.902816</td>\n",
       "      <td>-0.099698</td>\n",
       "      <td>-0.598389</td>\n",
       "      <td>-1.488932</td>\n",
       "    </tr>\n",
       "  </tbody>\n",
       "</table>\n",
       "</div>"
      ],
      "text/plain": [
       "                   D         C         B         A\n",
       "2013-01-01  1.054500  0.034081 -0.957632 -0.799797\n",
       "2013-01-02 -0.545475 -0.852440 -0.558066  0.298638\n",
       "2013-01-03  0.238593 -0.596859  0.601893  0.635410\n",
       "2013-01-04  1.283402  1.312219  1.727727  0.707160\n",
       "2013-01-05  0.894386  0.720214  1.402132  0.714390\n",
       "2013-01-06  0.902816 -0.099698 -0.598389 -1.488932"
      ]
     },
     "execution_count": 40,
     "metadata": {},
     "output_type": "execute_result"
    }
   ],
   "source": [
    "df.sort_index(axis=1, ascending=False)"
   ]
  },
  {
   "cell_type": "markdown",
   "id": "c562eb4f-4631-482e-b452-08c089cb3547",
   "metadata": {},
   "source": [
    "DataFrame.sort_values() sorts by values:"
   ]
  },
  {
   "cell_type": "code",
   "execution_count": 44,
   "id": "a0e33e51-593a-47e5-96cc-069ce6274465",
   "metadata": {},
   "outputs": [
    {
     "data": {
      "text/html": [
       "<div>\n",
       "<style scoped>\n",
       "    .dataframe tbody tr th:only-of-type {\n",
       "        vertical-align: middle;\n",
       "    }\n",
       "\n",
       "    .dataframe tbody tr th {\n",
       "        vertical-align: top;\n",
       "    }\n",
       "\n",
       "    .dataframe thead th {\n",
       "        text-align: right;\n",
       "    }\n",
       "</style>\n",
       "<table border=\"1\" class=\"dataframe\">\n",
       "  <thead>\n",
       "    <tr style=\"text-align: right;\">\n",
       "      <th></th>\n",
       "      <th>A</th>\n",
       "      <th>B</th>\n",
       "      <th>C</th>\n",
       "      <th>D</th>\n",
       "    </tr>\n",
       "  </thead>\n",
       "  <tbody>\n",
       "    <tr>\n",
       "      <th>2013-01-01</th>\n",
       "      <td>-0.799797</td>\n",
       "      <td>-0.957632</td>\n",
       "      <td>0.034081</td>\n",
       "      <td>1.054500</td>\n",
       "    </tr>\n",
       "    <tr>\n",
       "      <th>2013-01-06</th>\n",
       "      <td>-1.488932</td>\n",
       "      <td>-0.598389</td>\n",
       "      <td>-0.099698</td>\n",
       "      <td>0.902816</td>\n",
       "    </tr>\n",
       "    <tr>\n",
       "      <th>2013-01-02</th>\n",
       "      <td>0.298638</td>\n",
       "      <td>-0.558066</td>\n",
       "      <td>-0.852440</td>\n",
       "      <td>-0.545475</td>\n",
       "    </tr>\n",
       "    <tr>\n",
       "      <th>2013-01-03</th>\n",
       "      <td>0.635410</td>\n",
       "      <td>0.601893</td>\n",
       "      <td>-0.596859</td>\n",
       "      <td>0.238593</td>\n",
       "    </tr>\n",
       "    <tr>\n",
       "      <th>2013-01-05</th>\n",
       "      <td>0.714390</td>\n",
       "      <td>1.402132</td>\n",
       "      <td>0.720214</td>\n",
       "      <td>0.894386</td>\n",
       "    </tr>\n",
       "    <tr>\n",
       "      <th>2013-01-04</th>\n",
       "      <td>0.707160</td>\n",
       "      <td>1.727727</td>\n",
       "      <td>1.312219</td>\n",
       "      <td>1.283402</td>\n",
       "    </tr>\n",
       "  </tbody>\n",
       "</table>\n",
       "</div>"
      ],
      "text/plain": [
       "                   A         B         C         D\n",
       "2013-01-01 -0.799797 -0.957632  0.034081  1.054500\n",
       "2013-01-06 -1.488932 -0.598389 -0.099698  0.902816\n",
       "2013-01-02  0.298638 -0.558066 -0.852440 -0.545475\n",
       "2013-01-03  0.635410  0.601893 -0.596859  0.238593\n",
       "2013-01-05  0.714390  1.402132  0.720214  0.894386\n",
       "2013-01-04  0.707160  1.727727  1.312219  1.283402"
      ]
     },
     "execution_count": 44,
     "metadata": {},
     "output_type": "execute_result"
    }
   ],
   "source": [
    "df.sort_values(by=\"B\")"
   ]
  },
  {
   "cell_type": "markdown",
   "id": "51b8dfe1-0ec2-412e-bc65-e11bc8feba2b",
   "metadata": {},
   "source": [
    "### Selection\n",
    "While standard Python / NumPy expressions for selecting and setting are intuitive and come in handy for interactive work, for production code, we recommend the optimized pandas data access methods, DataFrame.at(), DataFrame.iat(), DataFrame.loc() and DataFrame.iloc()."
   ]
  },
  {
   "cell_type": "markdown",
   "id": "f77e78ce-a6d2-4cb4-8a51-28564013a98b",
   "metadata": {},
   "source": [
    "### Getitem([])\n",
    "For a DataFrame, passing a single label selects a columns and yields a Series equivalent to df.A:"
   ]
  },
  {
   "cell_type": "code",
   "execution_count": 48,
   "id": "9e5537b9-7273-4433-8952-bef213b0e389",
   "metadata": {},
   "outputs": [
    {
     "data": {
      "text/plain": [
       "2013-01-01   -0.799797\n",
       "2013-01-02    0.298638\n",
       "2013-01-03    0.635410\n",
       "2013-01-04    0.707160\n",
       "2013-01-05    0.714390\n",
       "2013-01-06   -1.488932\n",
       "Freq: D, Name: A, dtype: float64"
      ]
     },
     "execution_count": 48,
     "metadata": {},
     "output_type": "execute_result"
    }
   ],
   "source": [
    "df[\"A\"]"
   ]
  },
  {
   "cell_type": "markdown",
   "id": "7f2b0b1a-2cb7-4634-8fda-9e9507ef476f",
   "metadata": {},
   "source": [
    "For a DataFrame, passing a slice : selects matching rows:"
   ]
  },
  {
   "cell_type": "code",
   "execution_count": 51,
   "id": "4704c479-c146-4ecc-b3a2-7bc6c5907b9e",
   "metadata": {},
   "outputs": [
    {
     "data": {
      "text/html": [
       "<div>\n",
       "<style scoped>\n",
       "    .dataframe tbody tr th:only-of-type {\n",
       "        vertical-align: middle;\n",
       "    }\n",
       "\n",
       "    .dataframe tbody tr th {\n",
       "        vertical-align: top;\n",
       "    }\n",
       "\n",
       "    .dataframe thead th {\n",
       "        text-align: right;\n",
       "    }\n",
       "</style>\n",
       "<table border=\"1\" class=\"dataframe\">\n",
       "  <thead>\n",
       "    <tr style=\"text-align: right;\">\n",
       "      <th></th>\n",
       "      <th>A</th>\n",
       "      <th>B</th>\n",
       "      <th>C</th>\n",
       "      <th>D</th>\n",
       "    </tr>\n",
       "  </thead>\n",
       "  <tbody>\n",
       "    <tr>\n",
       "      <th>2013-01-01</th>\n",
       "      <td>-0.799797</td>\n",
       "      <td>-0.957632</td>\n",
       "      <td>0.034081</td>\n",
       "      <td>1.054500</td>\n",
       "    </tr>\n",
       "    <tr>\n",
       "      <th>2013-01-02</th>\n",
       "      <td>0.298638</td>\n",
       "      <td>-0.558066</td>\n",
       "      <td>-0.852440</td>\n",
       "      <td>-0.545475</td>\n",
       "    </tr>\n",
       "    <tr>\n",
       "      <th>2013-01-03</th>\n",
       "      <td>0.635410</td>\n",
       "      <td>0.601893</td>\n",
       "      <td>-0.596859</td>\n",
       "      <td>0.238593</td>\n",
       "    </tr>\n",
       "  </tbody>\n",
       "</table>\n",
       "</div>"
      ],
      "text/plain": [
       "                   A         B         C         D\n",
       "2013-01-01 -0.799797 -0.957632  0.034081  1.054500\n",
       "2013-01-02  0.298638 -0.558066 -0.852440 -0.545475\n",
       "2013-01-03  0.635410  0.601893 -0.596859  0.238593"
      ]
     },
     "execution_count": 51,
     "metadata": {},
     "output_type": "execute_result"
    }
   ],
   "source": [
    "df[0:3]"
   ]
  },
  {
   "cell_type": "code",
   "execution_count": 53,
   "id": "f04857ef-74c3-4691-99f7-fca06240732a",
   "metadata": {},
   "outputs": [
    {
     "data": {
      "text/html": [
       "<div>\n",
       "<style scoped>\n",
       "    .dataframe tbody tr th:only-of-type {\n",
       "        vertical-align: middle;\n",
       "    }\n",
       "\n",
       "    .dataframe tbody tr th {\n",
       "        vertical-align: top;\n",
       "    }\n",
       "\n",
       "    .dataframe thead th {\n",
       "        text-align: right;\n",
       "    }\n",
       "</style>\n",
       "<table border=\"1\" class=\"dataframe\">\n",
       "  <thead>\n",
       "    <tr style=\"text-align: right;\">\n",
       "      <th></th>\n",
       "      <th>A</th>\n",
       "      <th>B</th>\n",
       "      <th>C</th>\n",
       "      <th>D</th>\n",
       "    </tr>\n",
       "  </thead>\n",
       "  <tbody>\n",
       "    <tr>\n",
       "      <th>2013-01-02</th>\n",
       "      <td>0.298638</td>\n",
       "      <td>-0.558066</td>\n",
       "      <td>-0.852440</td>\n",
       "      <td>-0.545475</td>\n",
       "    </tr>\n",
       "    <tr>\n",
       "      <th>2013-01-03</th>\n",
       "      <td>0.635410</td>\n",
       "      <td>0.601893</td>\n",
       "      <td>-0.596859</td>\n",
       "      <td>0.238593</td>\n",
       "    </tr>\n",
       "    <tr>\n",
       "      <th>2013-01-04</th>\n",
       "      <td>0.707160</td>\n",
       "      <td>1.727727</td>\n",
       "      <td>1.312219</td>\n",
       "      <td>1.283402</td>\n",
       "    </tr>\n",
       "  </tbody>\n",
       "</table>\n",
       "</div>"
      ],
      "text/plain": [
       "                   A         B         C         D\n",
       "2013-01-02  0.298638 -0.558066 -0.852440 -0.545475\n",
       "2013-01-03  0.635410  0.601893 -0.596859  0.238593\n",
       "2013-01-04  0.707160  1.727727  1.312219  1.283402"
      ]
     },
     "execution_count": 53,
     "metadata": {},
     "output_type": "execute_result"
    }
   ],
   "source": [
    "df[\"20130102\":\"20130104\"]"
   ]
  },
  {
   "cell_type": "markdown",
   "id": "34969b33-b006-47d5-82ca-30b2f5d182b3",
   "metadata": {},
   "source": [
    "### Selection by label\n",
    "Selecting a row matching a label:"
   ]
  },
  {
   "cell_type": "code",
   "execution_count": 58,
   "id": "0b70b7de-6a3d-4d0d-9fe1-5aec089550f8",
   "metadata": {},
   "outputs": [
    {
     "data": {
      "text/html": [
       "<div>\n",
       "<style scoped>\n",
       "    .dataframe tbody tr th:only-of-type {\n",
       "        vertical-align: middle;\n",
       "    }\n",
       "\n",
       "    .dataframe tbody tr th {\n",
       "        vertical-align: top;\n",
       "    }\n",
       "\n",
       "    .dataframe thead th {\n",
       "        text-align: right;\n",
       "    }\n",
       "</style>\n",
       "<table border=\"1\" class=\"dataframe\">\n",
       "  <thead>\n",
       "    <tr style=\"text-align: right;\">\n",
       "      <th></th>\n",
       "      <th>A</th>\n",
       "      <th>B</th>\n",
       "    </tr>\n",
       "  </thead>\n",
       "  <tbody>\n",
       "    <tr>\n",
       "      <th>2013-01-01</th>\n",
       "      <td>-0.799797</td>\n",
       "      <td>-0.957632</td>\n",
       "    </tr>\n",
       "    <tr>\n",
       "      <th>2013-01-02</th>\n",
       "      <td>0.298638</td>\n",
       "      <td>-0.558066</td>\n",
       "    </tr>\n",
       "    <tr>\n",
       "      <th>2013-01-03</th>\n",
       "      <td>0.635410</td>\n",
       "      <td>0.601893</td>\n",
       "    </tr>\n",
       "    <tr>\n",
       "      <th>2013-01-04</th>\n",
       "      <td>0.707160</td>\n",
       "      <td>1.727727</td>\n",
       "    </tr>\n",
       "    <tr>\n",
       "      <th>2013-01-05</th>\n",
       "      <td>0.714390</td>\n",
       "      <td>1.402132</td>\n",
       "    </tr>\n",
       "    <tr>\n",
       "      <th>2013-01-06</th>\n",
       "      <td>-1.488932</td>\n",
       "      <td>-0.598389</td>\n",
       "    </tr>\n",
       "  </tbody>\n",
       "</table>\n",
       "</div>"
      ],
      "text/plain": [
       "                   A         B\n",
       "2013-01-01 -0.799797 -0.957632\n",
       "2013-01-02  0.298638 -0.558066\n",
       "2013-01-03  0.635410  0.601893\n",
       "2013-01-04  0.707160  1.727727\n",
       "2013-01-05  0.714390  1.402132\n",
       "2013-01-06 -1.488932 -0.598389"
      ]
     },
     "execution_count": 58,
     "metadata": {},
     "output_type": "execute_result"
    }
   ],
   "source": [
    "df.loc[:, [\"A\", \"B\"]]"
   ]
  },
  {
   "cell_type": "markdown",
   "id": "ce8ce61d-f619-48d8-9fdd-2fb45bb02188",
   "metadata": {},
   "source": [
    "For label slicing, both endpoints are included:"
   ]
  },
  {
   "cell_type": "code",
   "execution_count": 61,
   "id": "cadedfb7-7356-47e6-83d7-668ed4eab04c",
   "metadata": {},
   "outputs": [
    {
     "data": {
      "text/html": [
       "<div>\n",
       "<style scoped>\n",
       "    .dataframe tbody tr th:only-of-type {\n",
       "        vertical-align: middle;\n",
       "    }\n",
       "\n",
       "    .dataframe tbody tr th {\n",
       "        vertical-align: top;\n",
       "    }\n",
       "\n",
       "    .dataframe thead th {\n",
       "        text-align: right;\n",
       "    }\n",
       "</style>\n",
       "<table border=\"1\" class=\"dataframe\">\n",
       "  <thead>\n",
       "    <tr style=\"text-align: right;\">\n",
       "      <th></th>\n",
       "      <th>A</th>\n",
       "      <th>B</th>\n",
       "    </tr>\n",
       "  </thead>\n",
       "  <tbody>\n",
       "    <tr>\n",
       "      <th>2013-01-02</th>\n",
       "      <td>0.298638</td>\n",
       "      <td>-0.558066</td>\n",
       "    </tr>\n",
       "    <tr>\n",
       "      <th>2013-01-03</th>\n",
       "      <td>0.635410</td>\n",
       "      <td>0.601893</td>\n",
       "    </tr>\n",
       "    <tr>\n",
       "      <th>2013-01-04</th>\n",
       "      <td>0.707160</td>\n",
       "      <td>1.727727</td>\n",
       "    </tr>\n",
       "  </tbody>\n",
       "</table>\n",
       "</div>"
      ],
      "text/plain": [
       "                   A         B\n",
       "2013-01-02  0.298638 -0.558066\n",
       "2013-01-03  0.635410  0.601893\n",
       "2013-01-04  0.707160  1.727727"
      ]
     },
     "execution_count": 61,
     "metadata": {},
     "output_type": "execute_result"
    }
   ],
   "source": [
    "df.loc[\"20130102\":\"20130104\", [\"A\", \"B\"]]"
   ]
  },
  {
   "cell_type": "markdown",
   "id": "d8d64618-c93d-475f-a9a6-d6450e24ec48",
   "metadata": {},
   "source": [
    "Selecting a single row and column label returns a scalar:"
   ]
  },
  {
   "cell_type": "code",
   "execution_count": 64,
   "id": "59c10275-c24b-4b9e-bd3d-ea3c2d9a07b6",
   "metadata": {},
   "outputs": [
    {
     "data": {
      "text/plain": [
       "-0.7997965329245801"
      ]
     },
     "execution_count": 64,
     "metadata": {},
     "output_type": "execute_result"
    }
   ],
   "source": [
    "df.loc[dates[0], \"A\"]"
   ]
  },
  {
   "cell_type": "markdown",
   "id": "e331584e-2a65-4433-b7ca-5f5d84ac5f01",
   "metadata": {},
   "source": [
    "For getting fast access to a scalar (equivalent to the prior method):"
   ]
  },
  {
   "cell_type": "code",
   "execution_count": 69,
   "id": "b2da7453-ad8b-4c7b-8ff5-92ad2fc3c6a4",
   "metadata": {},
   "outputs": [
    {
     "data": {
      "text/plain": [
       "0.3820872432863873"
      ]
     },
     "execution_count": 69,
     "metadata": {},
     "output_type": "execute_result"
    }
   ],
   "source": [
    "df.at[dates[0], \"A\"]"
   ]
  },
  {
   "cell_type": "markdown",
   "id": "2f605f28-61db-4ee4-86b7-0cb8820b7029",
   "metadata": {},
   "source": [
    "### Selection by position\n",
    "Select via the position of the passed integers:"
   ]
  },
  {
   "cell_type": "code",
   "execution_count": 72,
   "id": "11128c27-9dd3-46e5-b4e9-5632bab63a3d",
   "metadata": {},
   "outputs": [
    {
     "data": {
      "text/plain": [
       "A   -0.070704\n",
       "B    0.776498\n",
       "C   -0.267532\n",
       "D    0.456509\n",
       "Name: 2013-01-04 00:00:00, dtype: float64"
      ]
     },
     "execution_count": 72,
     "metadata": {},
     "output_type": "execute_result"
    }
   ],
   "source": [
    "df.iloc[3]"
   ]
  },
  {
   "cell_type": "markdown",
   "id": "c8a22298-b28c-477e-aaa7-465cbd7f990c",
   "metadata": {},
   "source": [
    "Integer slices acts similar to NumPy/Python:"
   ]
  },
  {
   "cell_type": "code",
   "execution_count": 75,
   "id": "f153b688-1d78-4534-9edf-abe4eb3a710d",
   "metadata": {},
   "outputs": [
    {
     "data": {
      "text/html": [
       "<div>\n",
       "<style scoped>\n",
       "    .dataframe tbody tr th:only-of-type {\n",
       "        vertical-align: middle;\n",
       "    }\n",
       "\n",
       "    .dataframe tbody tr th {\n",
       "        vertical-align: top;\n",
       "    }\n",
       "\n",
       "    .dataframe thead th {\n",
       "        text-align: right;\n",
       "    }\n",
       "</style>\n",
       "<table border=\"1\" class=\"dataframe\">\n",
       "  <thead>\n",
       "    <tr style=\"text-align: right;\">\n",
       "      <th></th>\n",
       "      <th>A</th>\n",
       "      <th>B</th>\n",
       "    </tr>\n",
       "  </thead>\n",
       "  <tbody>\n",
       "    <tr>\n",
       "      <th>2013-01-04</th>\n",
       "      <td>-0.070704</td>\n",
       "      <td>0.776498</td>\n",
       "    </tr>\n",
       "    <tr>\n",
       "      <th>2013-01-05</th>\n",
       "      <td>-0.177941</td>\n",
       "      <td>-1.135375</td>\n",
       "    </tr>\n",
       "  </tbody>\n",
       "</table>\n",
       "</div>"
      ],
      "text/plain": [
       "                   A         B\n",
       "2013-01-04 -0.070704  0.776498\n",
       "2013-01-05 -0.177941 -1.135375"
      ]
     },
     "execution_count": 75,
     "metadata": {},
     "output_type": "execute_result"
    }
   ],
   "source": [
    "df.iloc[3:5, 0:2]"
   ]
  },
  {
   "cell_type": "markdown",
   "id": "fa5ea006-a349-4d2e-83ba-4b4a7327060d",
   "metadata": {},
   "source": [
    "Lists of integer position locations:"
   ]
  },
  {
   "cell_type": "code",
   "execution_count": 78,
   "id": "9d9b4db6-46b6-4dd3-839f-c94759cddd1f",
   "metadata": {},
   "outputs": [
    {
     "data": {
      "text/html": [
       "<div>\n",
       "<style scoped>\n",
       "    .dataframe tbody tr th:only-of-type {\n",
       "        vertical-align: middle;\n",
       "    }\n",
       "\n",
       "    .dataframe tbody tr th {\n",
       "        vertical-align: top;\n",
       "    }\n",
       "\n",
       "    .dataframe thead th {\n",
       "        text-align: right;\n",
       "    }\n",
       "</style>\n",
       "<table border=\"1\" class=\"dataframe\">\n",
       "  <thead>\n",
       "    <tr style=\"text-align: right;\">\n",
       "      <th></th>\n",
       "      <th>A</th>\n",
       "      <th>C</th>\n",
       "    </tr>\n",
       "  </thead>\n",
       "  <tbody>\n",
       "    <tr>\n",
       "      <th>2013-01-02</th>\n",
       "      <td>0.198678</td>\n",
       "      <td>-0.391337</td>\n",
       "    </tr>\n",
       "    <tr>\n",
       "      <th>2013-01-03</th>\n",
       "      <td>0.672602</td>\n",
       "      <td>-0.435937</td>\n",
       "    </tr>\n",
       "    <tr>\n",
       "      <th>2013-01-05</th>\n",
       "      <td>-0.177941</td>\n",
       "      <td>-0.430509</td>\n",
       "    </tr>\n",
       "  </tbody>\n",
       "</table>\n",
       "</div>"
      ],
      "text/plain": [
       "                   A         C\n",
       "2013-01-02  0.198678 -0.391337\n",
       "2013-01-03  0.672602 -0.435937\n",
       "2013-01-05 -0.177941 -0.430509"
      ]
     },
     "execution_count": 78,
     "metadata": {},
     "output_type": "execute_result"
    }
   ],
   "source": [
    "df.iloc[[1, 2, 4], [0, 2]]"
   ]
  },
  {
   "cell_type": "markdown",
   "id": "50a94355-8aae-4af6-a788-fc29d420a69c",
   "metadata": {},
   "source": [
    "For slicing rows explicitly:"
   ]
  },
  {
   "cell_type": "code",
   "execution_count": 81,
   "id": "bdad531f-993f-4ba2-af52-41bdc7d163e0",
   "metadata": {},
   "outputs": [
    {
     "data": {
      "text/html": [
       "<div>\n",
       "<style scoped>\n",
       "    .dataframe tbody tr th:only-of-type {\n",
       "        vertical-align: middle;\n",
       "    }\n",
       "\n",
       "    .dataframe tbody tr th {\n",
       "        vertical-align: top;\n",
       "    }\n",
       "\n",
       "    .dataframe thead th {\n",
       "        text-align: right;\n",
       "    }\n",
       "</style>\n",
       "<table border=\"1\" class=\"dataframe\">\n",
       "  <thead>\n",
       "    <tr style=\"text-align: right;\">\n",
       "      <th></th>\n",
       "      <th>A</th>\n",
       "      <th>B</th>\n",
       "      <th>C</th>\n",
       "      <th>D</th>\n",
       "    </tr>\n",
       "  </thead>\n",
       "  <tbody>\n",
       "    <tr>\n",
       "      <th>2013-01-02</th>\n",
       "      <td>0.198678</td>\n",
       "      <td>-1.344216</td>\n",
       "      <td>-0.391337</td>\n",
       "      <td>1.178942</td>\n",
       "    </tr>\n",
       "    <tr>\n",
       "      <th>2013-01-03</th>\n",
       "      <td>0.672602</td>\n",
       "      <td>1.352077</td>\n",
       "      <td>-0.435937</td>\n",
       "      <td>-0.169809</td>\n",
       "    </tr>\n",
       "  </tbody>\n",
       "</table>\n",
       "</div>"
      ],
      "text/plain": [
       "                   A         B         C         D\n",
       "2013-01-02  0.198678 -1.344216 -0.391337  1.178942\n",
       "2013-01-03  0.672602  1.352077 -0.435937 -0.169809"
      ]
     },
     "execution_count": 81,
     "metadata": {},
     "output_type": "execute_result"
    }
   ],
   "source": [
    "df.iloc[1:3, :]"
   ]
  },
  {
   "cell_type": "markdown",
   "id": "35a8be82-5ae4-4ceb-a2e8-7bfaa9ad88e2",
   "metadata": {},
   "source": [
    "For slicing columns explicitly:"
   ]
  },
  {
   "cell_type": "code",
   "execution_count": 84,
   "id": "8970c05d-f7c2-423f-83ab-7fbc433890fc",
   "metadata": {},
   "outputs": [
    {
     "data": {
      "text/html": [
       "<div>\n",
       "<style scoped>\n",
       "    .dataframe tbody tr th:only-of-type {\n",
       "        vertical-align: middle;\n",
       "    }\n",
       "\n",
       "    .dataframe tbody tr th {\n",
       "        vertical-align: top;\n",
       "    }\n",
       "\n",
       "    .dataframe thead th {\n",
       "        text-align: right;\n",
       "    }\n",
       "</style>\n",
       "<table border=\"1\" class=\"dataframe\">\n",
       "  <thead>\n",
       "    <tr style=\"text-align: right;\">\n",
       "      <th></th>\n",
       "      <th>B</th>\n",
       "      <th>C</th>\n",
       "    </tr>\n",
       "  </thead>\n",
       "  <tbody>\n",
       "    <tr>\n",
       "      <th>2013-01-01</th>\n",
       "      <td>-1.871050</td>\n",
       "      <td>1.015998</td>\n",
       "    </tr>\n",
       "    <tr>\n",
       "      <th>2013-01-02</th>\n",
       "      <td>-1.344216</td>\n",
       "      <td>-0.391337</td>\n",
       "    </tr>\n",
       "    <tr>\n",
       "      <th>2013-01-03</th>\n",
       "      <td>1.352077</td>\n",
       "      <td>-0.435937</td>\n",
       "    </tr>\n",
       "    <tr>\n",
       "      <th>2013-01-04</th>\n",
       "      <td>0.776498</td>\n",
       "      <td>-0.267532</td>\n",
       "    </tr>\n",
       "    <tr>\n",
       "      <th>2013-01-05</th>\n",
       "      <td>-1.135375</td>\n",
       "      <td>-0.430509</td>\n",
       "    </tr>\n",
       "    <tr>\n",
       "      <th>2013-01-06</th>\n",
       "      <td>1.339715</td>\n",
       "      <td>0.031140</td>\n",
       "    </tr>\n",
       "  </tbody>\n",
       "</table>\n",
       "</div>"
      ],
      "text/plain": [
       "                   B         C\n",
       "2013-01-01 -1.871050  1.015998\n",
       "2013-01-02 -1.344216 -0.391337\n",
       "2013-01-03  1.352077 -0.435937\n",
       "2013-01-04  0.776498 -0.267532\n",
       "2013-01-05 -1.135375 -0.430509\n",
       "2013-01-06  1.339715  0.031140"
      ]
     },
     "execution_count": 84,
     "metadata": {},
     "output_type": "execute_result"
    }
   ],
   "source": [
    "df.iloc[:, 1:3]"
   ]
  },
  {
   "cell_type": "markdown",
   "id": "78366f56-0121-4455-a9a2-73d2e143ade7",
   "metadata": {},
   "source": [
    "For getting a value explicitly:"
   ]
  },
  {
   "cell_type": "code",
   "execution_count": 87,
   "id": "7f4b5e64-6ce8-4e77-92ba-2cdc3f960e22",
   "metadata": {},
   "outputs": [
    {
     "data": {
      "text/plain": [
       "-1.3442164039218918"
      ]
     },
     "execution_count": 87,
     "metadata": {},
     "output_type": "execute_result"
    }
   ],
   "source": [
    "df.iloc[1, 1]"
   ]
  },
  {
   "cell_type": "markdown",
   "id": "70843b5e-ff01-452c-9d7e-1f164092c3a8",
   "metadata": {},
   "source": [
    "For getting fast access to a scalar (equivalent to the prior method):"
   ]
  },
  {
   "cell_type": "code",
   "execution_count": 90,
   "id": "75ebf39b-cdff-4911-a957-fd96137f0977",
   "metadata": {},
   "outputs": [
    {
     "data": {
      "text/plain": [
       "-1.3442164039218918"
      ]
     },
     "execution_count": 90,
     "metadata": {},
     "output_type": "execute_result"
    }
   ],
   "source": [
    "df.iat[1, 1]"
   ]
  },
  {
   "cell_type": "markdown",
   "id": "c107d38d-feb8-4d19-8910-e243c8bd2db4",
   "metadata": {},
   "source": [
    "### Boolean indexing\n",
    "Select rows where df.A is greater than 0."
   ]
  },
  {
   "cell_type": "code",
   "execution_count": 93,
   "id": "9855c050-46c8-4290-a480-c6aa24cec4e3",
   "metadata": {},
   "outputs": [
    {
     "data": {
      "text/html": [
       "<div>\n",
       "<style scoped>\n",
       "    .dataframe tbody tr th:only-of-type {\n",
       "        vertical-align: middle;\n",
       "    }\n",
       "\n",
       "    .dataframe tbody tr th {\n",
       "        vertical-align: top;\n",
       "    }\n",
       "\n",
       "    .dataframe thead th {\n",
       "        text-align: right;\n",
       "    }\n",
       "</style>\n",
       "<table border=\"1\" class=\"dataframe\">\n",
       "  <thead>\n",
       "    <tr style=\"text-align: right;\">\n",
       "      <th></th>\n",
       "      <th>A</th>\n",
       "      <th>B</th>\n",
       "      <th>C</th>\n",
       "      <th>D</th>\n",
       "    </tr>\n",
       "  </thead>\n",
       "  <tbody>\n",
       "    <tr>\n",
       "      <th>2013-01-01</th>\n",
       "      <td>0.382087</td>\n",
       "      <td>-1.871050</td>\n",
       "      <td>1.015998</td>\n",
       "      <td>0.370699</td>\n",
       "    </tr>\n",
       "    <tr>\n",
       "      <th>2013-01-02</th>\n",
       "      <td>0.198678</td>\n",
       "      <td>-1.344216</td>\n",
       "      <td>-0.391337</td>\n",
       "      <td>1.178942</td>\n",
       "    </tr>\n",
       "    <tr>\n",
       "      <th>2013-01-03</th>\n",
       "      <td>0.672602</td>\n",
       "      <td>1.352077</td>\n",
       "      <td>-0.435937</td>\n",
       "      <td>-0.169809</td>\n",
       "    </tr>\n",
       "  </tbody>\n",
       "</table>\n",
       "</div>"
      ],
      "text/plain": [
       "                   A         B         C         D\n",
       "2013-01-01  0.382087 -1.871050  1.015998  0.370699\n",
       "2013-01-02  0.198678 -1.344216 -0.391337  1.178942\n",
       "2013-01-03  0.672602  1.352077 -0.435937 -0.169809"
      ]
     },
     "execution_count": 93,
     "metadata": {},
     "output_type": "execute_result"
    }
   ],
   "source": [
    "df[df[\"A\"] > 0]"
   ]
  },
  {
   "cell_type": "markdown",
   "id": "a49a3fc4-fbde-46ae-881e-3da627f58f48",
   "metadata": {},
   "source": [
    "Selecting values from a DataFrame where a boolean condition is met:"
   ]
  },
  {
   "cell_type": "code",
   "execution_count": 103,
   "id": "4d42b6d0-9967-4297-a98c-e8af1df1a45e",
   "metadata": {},
   "outputs": [
    {
     "data": {
      "text/html": [
       "<div>\n",
       "<style scoped>\n",
       "    .dataframe tbody tr th:only-of-type {\n",
       "        vertical-align: middle;\n",
       "    }\n",
       "\n",
       "    .dataframe tbody tr th {\n",
       "        vertical-align: top;\n",
       "    }\n",
       "\n",
       "    .dataframe thead th {\n",
       "        text-align: right;\n",
       "    }\n",
       "</style>\n",
       "<table border=\"1\" class=\"dataframe\">\n",
       "  <thead>\n",
       "    <tr style=\"text-align: right;\">\n",
       "      <th></th>\n",
       "      <th>A</th>\n",
       "      <th>B</th>\n",
       "      <th>C</th>\n",
       "      <th>D</th>\n",
       "    </tr>\n",
       "  </thead>\n",
       "  <tbody>\n",
       "    <tr>\n",
       "      <th>2013-01-01</th>\n",
       "      <td>0.382087</td>\n",
       "      <td>NaN</td>\n",
       "      <td>1.015998</td>\n",
       "      <td>0.370699</td>\n",
       "    </tr>\n",
       "    <tr>\n",
       "      <th>2013-01-02</th>\n",
       "      <td>0.198678</td>\n",
       "      <td>NaN</td>\n",
       "      <td>NaN</td>\n",
       "      <td>1.178942</td>\n",
       "    </tr>\n",
       "    <tr>\n",
       "      <th>2013-01-03</th>\n",
       "      <td>0.672602</td>\n",
       "      <td>1.352077</td>\n",
       "      <td>NaN</td>\n",
       "      <td>NaN</td>\n",
       "    </tr>\n",
       "    <tr>\n",
       "      <th>2013-01-04</th>\n",
       "      <td>NaN</td>\n",
       "      <td>0.776498</td>\n",
       "      <td>NaN</td>\n",
       "      <td>0.456509</td>\n",
       "    </tr>\n",
       "    <tr>\n",
       "      <th>2013-01-05</th>\n",
       "      <td>NaN</td>\n",
       "      <td>NaN</td>\n",
       "      <td>NaN</td>\n",
       "      <td>NaN</td>\n",
       "    </tr>\n",
       "    <tr>\n",
       "      <th>2013-01-06</th>\n",
       "      <td>NaN</td>\n",
       "      <td>1.339715</td>\n",
       "      <td>0.031140</td>\n",
       "      <td>1.215037</td>\n",
       "    </tr>\n",
       "  </tbody>\n",
       "</table>\n",
       "</div>"
      ],
      "text/plain": [
       "                   A         B         C         D\n",
       "2013-01-01  0.382087       NaN  1.015998  0.370699\n",
       "2013-01-02  0.198678       NaN       NaN  1.178942\n",
       "2013-01-03  0.672602  1.352077       NaN       NaN\n",
       "2013-01-04       NaN  0.776498       NaN  0.456509\n",
       "2013-01-05       NaN       NaN       NaN       NaN\n",
       "2013-01-06       NaN  1.339715  0.031140  1.215037"
      ]
     },
     "execution_count": 103,
     "metadata": {},
     "output_type": "execute_result"
    }
   ],
   "source": [
    "df[df > 0]"
   ]
  },
  {
   "cell_type": "markdown",
   "id": "ddab54a9-952a-40dc-8f83-f6f36c99d4f8",
   "metadata": {},
   "source": [
    "Using isin() method for filtering:"
   ]
  },
  {
   "cell_type": "code",
   "execution_count": 111,
   "id": "8699a7d8-6693-44fb-8bb1-fd04a8a72c90",
   "metadata": {},
   "outputs": [],
   "source": [
    "df2 = df.copy()\n",
    "df2[\"E\"] = [\"one\", \"one\", \"two\", \"three\", \"four\", \"three\"]\n"
   ]
  },
  {
   "cell_type": "code",
   "execution_count": 113,
   "id": "bd918f1b-6ec6-4aac-9932-ec97c554c561",
   "metadata": {},
   "outputs": [
    {
     "data": {
      "text/html": [
       "<div>\n",
       "<style scoped>\n",
       "    .dataframe tbody tr th:only-of-type {\n",
       "        vertical-align: middle;\n",
       "    }\n",
       "\n",
       "    .dataframe tbody tr th {\n",
       "        vertical-align: top;\n",
       "    }\n",
       "\n",
       "    .dataframe thead th {\n",
       "        text-align: right;\n",
       "    }\n",
       "</style>\n",
       "<table border=\"1\" class=\"dataframe\">\n",
       "  <thead>\n",
       "    <tr style=\"text-align: right;\">\n",
       "      <th></th>\n",
       "      <th>A</th>\n",
       "      <th>B</th>\n",
       "      <th>C</th>\n",
       "      <th>D</th>\n",
       "      <th>E</th>\n",
       "    </tr>\n",
       "  </thead>\n",
       "  <tbody>\n",
       "    <tr>\n",
       "      <th>2013-01-03</th>\n",
       "      <td>0.672602</td>\n",
       "      <td>1.352077</td>\n",
       "      <td>-0.435937</td>\n",
       "      <td>-0.169809</td>\n",
       "      <td>two</td>\n",
       "    </tr>\n",
       "    <tr>\n",
       "      <th>2013-01-05</th>\n",
       "      <td>-0.177941</td>\n",
       "      <td>-1.135375</td>\n",
       "      <td>-0.430509</td>\n",
       "      <td>-0.073006</td>\n",
       "      <td>four</td>\n",
       "    </tr>\n",
       "  </tbody>\n",
       "</table>\n",
       "</div>"
      ],
      "text/plain": [
       "                   A         B         C         D     E\n",
       "2013-01-03  0.672602  1.352077 -0.435937 -0.169809   two\n",
       "2013-01-05 -0.177941 -1.135375 -0.430509 -0.073006  four"
      ]
     },
     "execution_count": 113,
     "metadata": {},
     "output_type": "execute_result"
    }
   ],
   "source": [
    "df2[df2[\"E\"].isin([\"two\", \"four\"])]"
   ]
  },
  {
   "cell_type": "code",
   "execution_count": null,
   "id": "4b979979-15c3-4538-8079-17a384489c3e",
   "metadata": {},
   "outputs": [],
   "source": []
  }
 ],
 "metadata": {
  "kernelspec": {
   "display_name": "Python 3 (ipykernel)",
   "language": "python",
   "name": "python3"
  },
  "language_info": {
   "codemirror_mode": {
    "name": "ipython",
    "version": 3
   },
   "file_extension": ".py",
   "mimetype": "text/x-python",
   "name": "python",
   "nbconvert_exporter": "python",
   "pygments_lexer": "ipython3",
   "version": "3.12.4"
  }
 },
 "nbformat": 4,
 "nbformat_minor": 5
}
